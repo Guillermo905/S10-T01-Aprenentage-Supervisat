{
 "cells": [
  {
   "cell_type": "markdown",
   "id": "9ed3b1fa",
   "metadata": {},
   "source": [
    "# Nivell 1\n",
    "\n",
    "\n",
    "\n",
    "\n",
    "\n",
    "\n",
    "\n"
   ]
  },
  {
   "cell_type": "markdown",
   "id": "db9c2e96",
   "metadata": {},
   "source": [
    "## Exercici 1\n",
    "\n",
    "Crea almenys tres models de classificació diferents per intentar predir el millor possible l’endarreriment dels vols (ArrDelay) de DelayedFlights.csv. Considera si el vol ha arribat tard o no (ArrDelay > 0).\n"
   ]
  },
  {
   "cell_type": "code",
   "execution_count": 1,
   "id": "5c6489ae",
   "metadata": {},
   "outputs": [],
   "source": [
    "import pandas as pd\n",
    "import numpy as np\n",
    "import matplotlib.pyplot as plt\n",
    "import seaborn as sns"
   ]
  },
  {
   "cell_type": "code",
   "execution_count": 2,
   "id": "1e98a197",
   "metadata": {},
   "outputs": [],
   "source": [
    "fly = pd.read_csv('C:/Users/Guillermo/Desktop/Curs Data Scientist/Sprint 2/S02 T05 Exploració de les dades/DelayedFlights.csv')"
   ]
  },
  {
   "cell_type": "code",
   "execution_count": 4,
   "id": "3d86f006",
   "metadata": {},
   "outputs": [
    {
     "data": {
      "text/plain": [
       "Index(['Unnamed: 0', 'Year', 'Month', 'DayofMonth', 'DayOfWeek', 'DepTime',\n",
       "       'CRSDepTime', 'ArrTime', 'CRSArrTime', 'UniqueCarrier', 'FlightNum',\n",
       "       'TailNum', 'ActualElapsedTime', 'CRSElapsedTime', 'AirTime', 'ArrDelay',\n",
       "       'DepDelay', 'Origin', 'Dest', 'Distance', 'TaxiIn', 'TaxiOut',\n",
       "       'Cancelled', 'CancellationCode', 'Diverted', 'CarrierDelay',\n",
       "       'WeatherDelay', 'NASDelay', 'SecurityDelay', 'LateAircraftDelay'],\n",
       "      dtype='object')"
      ]
     },
     "execution_count": 4,
     "metadata": {},
     "output_type": "execute_result"
    }
   ],
   "source": [
    "fly.columns"
   ]
  },
  {
   "cell_type": "code",
   "execution_count": 3,
   "id": "c4269597",
   "metadata": {},
   "outputs": [],
   "source": [
    "fly['retard'] = fly['ArrDelay'].apply(lambda x: 1 if x > 0 else 0)"
   ]
  },
  {
   "cell_type": "code",
   "execution_count": 7,
   "id": "cff8270a",
   "metadata": {},
   "outputs": [
    {
     "data": {
      "text/html": [
       "<div>\n",
       "<style scoped>\n",
       "    .dataframe tbody tr th:only-of-type {\n",
       "        vertical-align: middle;\n",
       "    }\n",
       "\n",
       "    .dataframe tbody tr th {\n",
       "        vertical-align: top;\n",
       "    }\n",
       "\n",
       "    .dataframe thead th {\n",
       "        text-align: right;\n",
       "    }\n",
       "</style>\n",
       "<table border=\"1\" class=\"dataframe\">\n",
       "  <thead>\n",
       "    <tr style=\"text-align: right;\">\n",
       "      <th></th>\n",
       "      <th>Unnamed: 0</th>\n",
       "      <th>Year</th>\n",
       "      <th>Month</th>\n",
       "      <th>DayofMonth</th>\n",
       "      <th>DayOfWeek</th>\n",
       "      <th>DepTime</th>\n",
       "      <th>CRSDepTime</th>\n",
       "      <th>ArrTime</th>\n",
       "      <th>CRSArrTime</th>\n",
       "      <th>UniqueCarrier</th>\n",
       "      <th>...</th>\n",
       "      <th>TaxiOut</th>\n",
       "      <th>Cancelled</th>\n",
       "      <th>CancellationCode</th>\n",
       "      <th>Diverted</th>\n",
       "      <th>CarrierDelay</th>\n",
       "      <th>WeatherDelay</th>\n",
       "      <th>NASDelay</th>\n",
       "      <th>SecurityDelay</th>\n",
       "      <th>LateAircraftDelay</th>\n",
       "      <th>retard</th>\n",
       "    </tr>\n",
       "  </thead>\n",
       "  <tbody>\n",
       "    <tr>\n",
       "      <th>0</th>\n",
       "      <td>0</td>\n",
       "      <td>2008</td>\n",
       "      <td>1</td>\n",
       "      <td>3</td>\n",
       "      <td>4</td>\n",
       "      <td>2003.0</td>\n",
       "      <td>1955</td>\n",
       "      <td>2211.0</td>\n",
       "      <td>2225</td>\n",
       "      <td>WN</td>\n",
       "      <td>...</td>\n",
       "      <td>8.0</td>\n",
       "      <td>0</td>\n",
       "      <td>N</td>\n",
       "      <td>0</td>\n",
       "      <td>NaN</td>\n",
       "      <td>NaN</td>\n",
       "      <td>NaN</td>\n",
       "      <td>NaN</td>\n",
       "      <td>NaN</td>\n",
       "      <td>0</td>\n",
       "    </tr>\n",
       "    <tr>\n",
       "      <th>1</th>\n",
       "      <td>1</td>\n",
       "      <td>2008</td>\n",
       "      <td>1</td>\n",
       "      <td>3</td>\n",
       "      <td>4</td>\n",
       "      <td>754.0</td>\n",
       "      <td>735</td>\n",
       "      <td>1002.0</td>\n",
       "      <td>1000</td>\n",
       "      <td>WN</td>\n",
       "      <td>...</td>\n",
       "      <td>10.0</td>\n",
       "      <td>0</td>\n",
       "      <td>N</td>\n",
       "      <td>0</td>\n",
       "      <td>NaN</td>\n",
       "      <td>NaN</td>\n",
       "      <td>NaN</td>\n",
       "      <td>NaN</td>\n",
       "      <td>NaN</td>\n",
       "      <td>1</td>\n",
       "    </tr>\n",
       "    <tr>\n",
       "      <th>2</th>\n",
       "      <td>2</td>\n",
       "      <td>2008</td>\n",
       "      <td>1</td>\n",
       "      <td>3</td>\n",
       "      <td>4</td>\n",
       "      <td>628.0</td>\n",
       "      <td>620</td>\n",
       "      <td>804.0</td>\n",
       "      <td>750</td>\n",
       "      <td>WN</td>\n",
       "      <td>...</td>\n",
       "      <td>17.0</td>\n",
       "      <td>0</td>\n",
       "      <td>N</td>\n",
       "      <td>0</td>\n",
       "      <td>NaN</td>\n",
       "      <td>NaN</td>\n",
       "      <td>NaN</td>\n",
       "      <td>NaN</td>\n",
       "      <td>NaN</td>\n",
       "      <td>1</td>\n",
       "    </tr>\n",
       "    <tr>\n",
       "      <th>3</th>\n",
       "      <td>4</td>\n",
       "      <td>2008</td>\n",
       "      <td>1</td>\n",
       "      <td>3</td>\n",
       "      <td>4</td>\n",
       "      <td>1829.0</td>\n",
       "      <td>1755</td>\n",
       "      <td>1959.0</td>\n",
       "      <td>1925</td>\n",
       "      <td>WN</td>\n",
       "      <td>...</td>\n",
       "      <td>10.0</td>\n",
       "      <td>0</td>\n",
       "      <td>N</td>\n",
       "      <td>0</td>\n",
       "      <td>2.0</td>\n",
       "      <td>0.0</td>\n",
       "      <td>0.0</td>\n",
       "      <td>0.0</td>\n",
       "      <td>32.0</td>\n",
       "      <td>1</td>\n",
       "    </tr>\n",
       "    <tr>\n",
       "      <th>4</th>\n",
       "      <td>5</td>\n",
       "      <td>2008</td>\n",
       "      <td>1</td>\n",
       "      <td>3</td>\n",
       "      <td>4</td>\n",
       "      <td>1940.0</td>\n",
       "      <td>1915</td>\n",
       "      <td>2121.0</td>\n",
       "      <td>2110</td>\n",
       "      <td>WN</td>\n",
       "      <td>...</td>\n",
       "      <td>10.0</td>\n",
       "      <td>0</td>\n",
       "      <td>N</td>\n",
       "      <td>0</td>\n",
       "      <td>NaN</td>\n",
       "      <td>NaN</td>\n",
       "      <td>NaN</td>\n",
       "      <td>NaN</td>\n",
       "      <td>NaN</td>\n",
       "      <td>1</td>\n",
       "    </tr>\n",
       "  </tbody>\n",
       "</table>\n",
       "<p>5 rows × 31 columns</p>\n",
       "</div>"
      ],
      "text/plain": [
       "   Unnamed: 0  Year  Month  DayofMonth  DayOfWeek  DepTime  CRSDepTime  \\\n",
       "0           0  2008      1           3          4   2003.0        1955   \n",
       "1           1  2008      1           3          4    754.0         735   \n",
       "2           2  2008      1           3          4    628.0         620   \n",
       "3           4  2008      1           3          4   1829.0        1755   \n",
       "4           5  2008      1           3          4   1940.0        1915   \n",
       "\n",
       "   ArrTime  CRSArrTime UniqueCarrier  ...  TaxiOut Cancelled  \\\n",
       "0   2211.0        2225            WN  ...      8.0         0   \n",
       "1   1002.0        1000            WN  ...     10.0         0   \n",
       "2    804.0         750            WN  ...     17.0         0   \n",
       "3   1959.0        1925            WN  ...     10.0         0   \n",
       "4   2121.0        2110            WN  ...     10.0         0   \n",
       "\n",
       "   CancellationCode  Diverted  CarrierDelay  WeatherDelay  NASDelay  \\\n",
       "0                 N         0           NaN           NaN       NaN   \n",
       "1                 N         0           NaN           NaN       NaN   \n",
       "2                 N         0           NaN           NaN       NaN   \n",
       "3                 N         0           2.0           0.0       0.0   \n",
       "4                 N         0           NaN           NaN       NaN   \n",
       "\n",
       "  SecurityDelay LateAircraftDelay  retard  \n",
       "0           NaN               NaN       0  \n",
       "1           NaN               NaN       1  \n",
       "2           NaN               NaN       1  \n",
       "3           0.0              32.0       1  \n",
       "4           NaN               NaN       1  \n",
       "\n",
       "[5 rows x 31 columns]"
      ]
     },
     "execution_count": 7,
     "metadata": {},
     "output_type": "execute_result"
    }
   ],
   "source": [
    "fly.head()"
   ]
  },
  {
   "cell_type": "code",
   "execution_count": 5,
   "id": "f9f257de",
   "metadata": {},
   "outputs": [
    {
     "data": {
      "text/plain": [
       "0"
      ]
     },
     "execution_count": 5,
     "metadata": {},
     "output_type": "execute_result"
    }
   ],
   "source": [
    "fly['retard'].isna().sum()"
   ]
  },
  {
   "cell_type": "code",
   "execution_count": 6,
   "id": "f13dba63",
   "metadata": {},
   "outputs": [
    {
     "data": {
      "text/plain": [
       "8387"
      ]
     },
     "execution_count": 6,
     "metadata": {},
     "output_type": "execute_result"
    }
   ],
   "source": [
    "fly['ArrDelay'].isna().sum()"
   ]
  },
  {
   "cell_type": "code",
   "execution_count": 4,
   "id": "adb74b3f",
   "metadata": {},
   "outputs": [],
   "source": [
    "#Eliminamos NaNs de ArrDelay\n",
    "fly = fly.dropna(subset = ['ArrDelay'])"
   ]
  },
  {
   "cell_type": "code",
   "execution_count": 5,
   "id": "bb2f385b",
   "metadata": {},
   "outputs": [
    {
     "data": {
      "text/plain": [
       "0"
      ]
     },
     "execution_count": 5,
     "metadata": {},
     "output_type": "execute_result"
    }
   ],
   "source": [
    "fly['ArrDelay'].isna().sum()"
   ]
  },
  {
   "cell_type": "code",
   "execution_count": 5,
   "id": "23766536",
   "metadata": {},
   "outputs": [],
   "source": [
    "fly2 = fly.sample(n = 100000, random_state = 42)"
   ]
  },
  {
   "cell_type": "code",
   "execution_count": 7,
   "id": "6506c7fa",
   "metadata": {
    "scrolled": true
   },
   "outputs": [
    {
     "data": {
      "text/plain": [
       "Unnamed: 0               0\n",
       "Year                     0\n",
       "Month                    0\n",
       "DayofMonth               0\n",
       "DayOfWeek                0\n",
       "DepTime                  0\n",
       "CRSDepTime               0\n",
       "ArrTime                  0\n",
       "CRSArrTime               0\n",
       "UniqueCarrier            0\n",
       "FlightNum                0\n",
       "TailNum                  0\n",
       "ActualElapsedTime        0\n",
       "CRSElapsedTime           0\n",
       "AirTime                  0\n",
       "ArrDelay                 0\n",
       "DepDelay                 0\n",
       "Origin                   0\n",
       "Dest                     0\n",
       "Distance                 0\n",
       "TaxiIn                   0\n",
       "TaxiOut                  0\n",
       "Cancelled                0\n",
       "CancellationCode         0\n",
       "Diverted                 0\n",
       "CarrierDelay         35303\n",
       "WeatherDelay         35303\n",
       "NASDelay             35303\n",
       "SecurityDelay        35303\n",
       "LateAircraftDelay    35303\n",
       "retard                   0\n",
       "dtype: int64"
      ]
     },
     "execution_count": 7,
     "metadata": {},
     "output_type": "execute_result"
    }
   ],
   "source": [
    "fly2.isna().sum()"
   ]
  },
  {
   "cell_type": "markdown",
   "id": "c1cb3977",
   "metadata": {},
   "source": [
    "Com retard no ha heredat els NaNs de Arrdelay eliminem les files amb NaNs de la nostra mostra"
   ]
  },
  {
   "cell_type": "code",
   "execution_count": 8,
   "id": "5603fa5d",
   "metadata": {},
   "outputs": [
    {
     "data": {
      "text/plain": [
       "1    89517\n",
       "0    10483\n",
       "Name: retard, dtype: int64"
      ]
     },
     "execution_count": 8,
     "metadata": {},
     "output_type": "execute_result"
    }
   ],
   "source": [
    "fly2.retard.value_counts()"
   ]
  },
  {
   "cell_type": "markdown",
   "id": "d9acf473",
   "metadata": {},
   "source": [
    "Igual que en l'exercici anterior eliminem els NaNs de CarrierDelay, WeatherDelay, NASDelay, SecurityDelay i LateAircraftDelay amb la mitjana."
   ]
  },
  {
   "cell_type": "code",
   "execution_count": 6,
   "id": "308d918f",
   "metadata": {},
   "outputs": [],
   "source": [
    "numVar = ['Month', 'DayofMonth', 'DayOfWeek', 'DepTime', 'CRSDepTime', 'ArrTime',\n",
    "       'CRSArrTime', 'FlightNum', 'ActualElapsedTime', 'CRSElapsedTime', 'AirTime', 'ArrDelay',\n",
    "       'DepDelay','Distance', 'TaxiIn', 'TaxiOut', 'CarrierDelay',\n",
    "       'WeatherDelay', 'NASDelay', 'SecurityDelay', 'LateAircraftDelay']\n",
    "catVar = ['UniqueCarrier', 'TailNum','Origin', 'Dest']\n",
    "\n",
    "flyNum = fly2.loc[:, numVar]\n",
    "flyCat = fly2.loc[:,catVar]\n",
    "retards = fly2.loc[:, 'retard']"
   ]
  },
  {
   "cell_type": "code",
   "execution_count": 10,
   "id": "2c4dd9f4",
   "metadata": {
    "scrolled": true
   },
   "outputs": [
    {
     "data": {
      "text/html": [
       "<div>\n",
       "<style scoped>\n",
       "    .dataframe tbody tr th:only-of-type {\n",
       "        vertical-align: middle;\n",
       "    }\n",
       "\n",
       "    .dataframe tbody tr th {\n",
       "        vertical-align: top;\n",
       "    }\n",
       "\n",
       "    .dataframe thead th {\n",
       "        text-align: right;\n",
       "    }\n",
       "</style>\n",
       "<table border=\"1\" class=\"dataframe\">\n",
       "  <thead>\n",
       "    <tr style=\"text-align: right;\">\n",
       "      <th></th>\n",
       "      <th>Month</th>\n",
       "      <th>DayofMonth</th>\n",
       "      <th>DayOfWeek</th>\n",
       "      <th>DepTime</th>\n",
       "      <th>CRSDepTime</th>\n",
       "      <th>ArrTime</th>\n",
       "      <th>CRSArrTime</th>\n",
       "      <th>FlightNum</th>\n",
       "      <th>ActualElapsedTime</th>\n",
       "      <th>CRSElapsedTime</th>\n",
       "      <th>...</th>\n",
       "      <th>ArrDelay</th>\n",
       "      <th>DepDelay</th>\n",
       "      <th>Distance</th>\n",
       "      <th>TaxiIn</th>\n",
       "      <th>TaxiOut</th>\n",
       "      <th>CarrierDelay</th>\n",
       "      <th>WeatherDelay</th>\n",
       "      <th>NASDelay</th>\n",
       "      <th>SecurityDelay</th>\n",
       "      <th>LateAircraftDelay</th>\n",
       "    </tr>\n",
       "  </thead>\n",
       "  <tbody>\n",
       "    <tr>\n",
       "      <th>403778</th>\n",
       "      <td>3</td>\n",
       "      <td>25</td>\n",
       "      <td>2</td>\n",
       "      <td>1124.0</td>\n",
       "      <td>1115</td>\n",
       "      <td>1221.0</td>\n",
       "      <td>1215</td>\n",
       "      <td>1095</td>\n",
       "      <td>57.0</td>\n",
       "      <td>60.0</td>\n",
       "      <td>...</td>\n",
       "      <td>6.0</td>\n",
       "      <td>9.0</td>\n",
       "      <td>251</td>\n",
       "      <td>5.0</td>\n",
       "      <td>7.0</td>\n",
       "      <td>NaN</td>\n",
       "      <td>NaN</td>\n",
       "      <td>NaN</td>\n",
       "      <td>NaN</td>\n",
       "      <td>NaN</td>\n",
       "    </tr>\n",
       "    <tr>\n",
       "      <th>1397595</th>\n",
       "      <td>8</td>\n",
       "      <td>9</td>\n",
       "      <td>6</td>\n",
       "      <td>1152.0</td>\n",
       "      <td>1130</td>\n",
       "      <td>1555.0</td>\n",
       "      <td>1520</td>\n",
       "      <td>1690</td>\n",
       "      <td>183.0</td>\n",
       "      <td>170.0</td>\n",
       "      <td>...</td>\n",
       "      <td>35.0</td>\n",
       "      <td>22.0</td>\n",
       "      <td>1121</td>\n",
       "      <td>7.0</td>\n",
       "      <td>23.0</td>\n",
       "      <td>22.0</td>\n",
       "      <td>0.0</td>\n",
       "      <td>13.0</td>\n",
       "      <td>0.0</td>\n",
       "      <td>0.0</td>\n",
       "    </tr>\n",
       "    <tr>\n",
       "      <th>1849546</th>\n",
       "      <td>12</td>\n",
       "      <td>13</td>\n",
       "      <td>6</td>\n",
       "      <td>1226.0</td>\n",
       "      <td>1210</td>\n",
       "      <td>1405.0</td>\n",
       "      <td>1355</td>\n",
       "      <td>5615</td>\n",
       "      <td>99.0</td>\n",
       "      <td>105.0</td>\n",
       "      <td>...</td>\n",
       "      <td>10.0</td>\n",
       "      <td>16.0</td>\n",
       "      <td>528</td>\n",
       "      <td>7.0</td>\n",
       "      <td>13.0</td>\n",
       "      <td>NaN</td>\n",
       "      <td>NaN</td>\n",
       "      <td>NaN</td>\n",
       "      <td>NaN</td>\n",
       "      <td>NaN</td>\n",
       "    </tr>\n",
       "    <tr>\n",
       "      <th>18418</th>\n",
       "      <td>1</td>\n",
       "      <td>21</td>\n",
       "      <td>1</td>\n",
       "      <td>2046.0</td>\n",
       "      <td>1950</td>\n",
       "      <td>2158.0</td>\n",
       "      <td>2045</td>\n",
       "      <td>1274</td>\n",
       "      <td>132.0</td>\n",
       "      <td>115.0</td>\n",
       "      <td>...</td>\n",
       "      <td>73.0</td>\n",
       "      <td>56.0</td>\n",
       "      <td>629</td>\n",
       "      <td>4.0</td>\n",
       "      <td>25.0</td>\n",
       "      <td>7.0</td>\n",
       "      <td>0.0</td>\n",
       "      <td>17.0</td>\n",
       "      <td>0.0</td>\n",
       "      <td>49.0</td>\n",
       "    </tr>\n",
       "    <tr>\n",
       "      <th>1805454</th>\n",
       "      <td>12</td>\n",
       "      <td>26</td>\n",
       "      <td>5</td>\n",
       "      <td>1759.0</td>\n",
       "      <td>1709</td>\n",
       "      <td>2026.0</td>\n",
       "      <td>1937</td>\n",
       "      <td>6180</td>\n",
       "      <td>87.0</td>\n",
       "      <td>88.0</td>\n",
       "      <td>...</td>\n",
       "      <td>49.0</td>\n",
       "      <td>50.0</td>\n",
       "      <td>495</td>\n",
       "      <td>3.0</td>\n",
       "      <td>13.0</td>\n",
       "      <td>0.0</td>\n",
       "      <td>0.0</td>\n",
       "      <td>0.0</td>\n",
       "      <td>0.0</td>\n",
       "      <td>49.0</td>\n",
       "    </tr>\n",
       "  </tbody>\n",
       "</table>\n",
       "<p>5 rows × 21 columns</p>\n",
       "</div>"
      ],
      "text/plain": [
       "         Month  DayofMonth  DayOfWeek  DepTime  CRSDepTime  ArrTime  \\\n",
       "403778       3          25          2   1124.0        1115   1221.0   \n",
       "1397595      8           9          6   1152.0        1130   1555.0   \n",
       "1849546     12          13          6   1226.0        1210   1405.0   \n",
       "18418        1          21          1   2046.0        1950   2158.0   \n",
       "1805454     12          26          5   1759.0        1709   2026.0   \n",
       "\n",
       "         CRSArrTime  FlightNum  ActualElapsedTime  CRSElapsedTime  ...  \\\n",
       "403778         1215       1095               57.0            60.0  ...   \n",
       "1397595        1520       1690              183.0           170.0  ...   \n",
       "1849546        1355       5615               99.0           105.0  ...   \n",
       "18418          2045       1274              132.0           115.0  ...   \n",
       "1805454        1937       6180               87.0            88.0  ...   \n",
       "\n",
       "         ArrDelay  DepDelay  Distance  TaxiIn  TaxiOut  CarrierDelay  \\\n",
       "403778        6.0       9.0       251     5.0      7.0           NaN   \n",
       "1397595      35.0      22.0      1121     7.0     23.0          22.0   \n",
       "1849546      10.0      16.0       528     7.0     13.0           NaN   \n",
       "18418        73.0      56.0       629     4.0     25.0           7.0   \n",
       "1805454      49.0      50.0       495     3.0     13.0           0.0   \n",
       "\n",
       "         WeatherDelay  NASDelay  SecurityDelay  LateAircraftDelay  \n",
       "403778            NaN       NaN            NaN                NaN  \n",
       "1397595           0.0      13.0            0.0                0.0  \n",
       "1849546           NaN       NaN            NaN                NaN  \n",
       "18418             0.0      17.0            0.0               49.0  \n",
       "1805454           0.0       0.0            0.0               49.0  \n",
       "\n",
       "[5 rows x 21 columns]"
      ]
     },
     "execution_count": 10,
     "metadata": {},
     "output_type": "execute_result"
    }
   ],
   "source": [
    "flyNum.head()"
   ]
  },
  {
   "cell_type": "code",
   "execution_count": 11,
   "id": "6b76abea",
   "metadata": {
    "scrolled": true
   },
   "outputs": [
    {
     "data": {
      "text/html": [
       "<div>\n",
       "<style scoped>\n",
       "    .dataframe tbody tr th:only-of-type {\n",
       "        vertical-align: middle;\n",
       "    }\n",
       "\n",
       "    .dataframe tbody tr th {\n",
       "        vertical-align: top;\n",
       "    }\n",
       "\n",
       "    .dataframe thead th {\n",
       "        text-align: right;\n",
       "    }\n",
       "</style>\n",
       "<table border=\"1\" class=\"dataframe\">\n",
       "  <thead>\n",
       "    <tr style=\"text-align: right;\">\n",
       "      <th></th>\n",
       "      <th>UniqueCarrier</th>\n",
       "      <th>TailNum</th>\n",
       "      <th>Origin</th>\n",
       "      <th>Dest</th>\n",
       "    </tr>\n",
       "  </thead>\n",
       "  <tbody>\n",
       "    <tr>\n",
       "      <th>403778</th>\n",
       "      <td>WN</td>\n",
       "      <td>N909WN</td>\n",
       "      <td>STL</td>\n",
       "      <td>MDW</td>\n",
       "    </tr>\n",
       "    <tr>\n",
       "      <th>1397595</th>\n",
       "      <td>AA</td>\n",
       "      <td>N5ELAA</td>\n",
       "      <td>DFW</td>\n",
       "      <td>MIA</td>\n",
       "    </tr>\n",
       "    <tr>\n",
       "      <th>1849546</th>\n",
       "      <td>EV</td>\n",
       "      <td>N752EV</td>\n",
       "      <td>CAK</td>\n",
       "      <td>ATL</td>\n",
       "    </tr>\n",
       "    <tr>\n",
       "      <th>18418</th>\n",
       "      <td>WN</td>\n",
       "      <td>N642WN</td>\n",
       "      <td>DEN</td>\n",
       "      <td>LAS</td>\n",
       "    </tr>\n",
       "    <tr>\n",
       "      <th>1805454</th>\n",
       "      <td>OO</td>\n",
       "      <td>N742SK</td>\n",
       "      <td>DEN</td>\n",
       "      <td>OKC</td>\n",
       "    </tr>\n",
       "  </tbody>\n",
       "</table>\n",
       "</div>"
      ],
      "text/plain": [
       "        UniqueCarrier TailNum Origin Dest\n",
       "403778             WN  N909WN    STL  MDW\n",
       "1397595            AA  N5ELAA    DFW  MIA\n",
       "1849546            EV  N752EV    CAK  ATL\n",
       "18418              WN  N642WN    DEN  LAS\n",
       "1805454            OO  N742SK    DEN  OKC"
      ]
     },
     "execution_count": 11,
     "metadata": {},
     "output_type": "execute_result"
    }
   ],
   "source": [
    "flyCat.head()"
   ]
  },
  {
   "cell_type": "code",
   "execution_count": 12,
   "id": "de78949a",
   "metadata": {},
   "outputs": [
    {
     "name": "stdout",
     "output_type": "stream",
     "text": [
      "(100000, 21)\n",
      "(100000, 4)\n"
     ]
    }
   ],
   "source": [
    "print(flyNum.shape)\n",
    "print(flyCat.shape)"
   ]
  },
  {
   "cell_type": "code",
   "execution_count": 7,
   "id": "446fa930",
   "metadata": {
    "scrolled": false
   },
   "outputs": [
    {
     "name": "stdout",
     "output_type": "stream",
     "text": [
      "Month                0\n",
      "DayofMonth           0\n",
      "DayOfWeek            0\n",
      "DepTime              0\n",
      "CRSDepTime           0\n",
      "ArrTime              0\n",
      "CRSArrTime           0\n",
      "FlightNum            0\n",
      "ActualElapsedTime    0\n",
      "CRSElapsedTime       0\n",
      "AirTime              0\n",
      "ArrDelay             0\n",
      "DepDelay             0\n",
      "Distance             0\n",
      "TaxiIn               0\n",
      "TaxiOut              0\n",
      "CarrierDelay         0\n",
      "WeatherDelay         0\n",
      "NASDelay             0\n",
      "SecurityDelay        0\n",
      "LateAircraftDelay    0\n",
      "dtype: int64\n"
     ]
    },
    {
     "data": {
      "text/html": [
       "<div>\n",
       "<style scoped>\n",
       "    .dataframe tbody tr th:only-of-type {\n",
       "        vertical-align: middle;\n",
       "    }\n",
       "\n",
       "    .dataframe tbody tr th {\n",
       "        vertical-align: top;\n",
       "    }\n",
       "\n",
       "    .dataframe thead th {\n",
       "        text-align: right;\n",
       "    }\n",
       "</style>\n",
       "<table border=\"1\" class=\"dataframe\">\n",
       "  <thead>\n",
       "    <tr style=\"text-align: right;\">\n",
       "      <th></th>\n",
       "      <th>Month</th>\n",
       "      <th>DayofMonth</th>\n",
       "      <th>DayOfWeek</th>\n",
       "      <th>DepTime</th>\n",
       "      <th>CRSDepTime</th>\n",
       "      <th>ArrTime</th>\n",
       "      <th>CRSArrTime</th>\n",
       "      <th>FlightNum</th>\n",
       "      <th>ActualElapsedTime</th>\n",
       "      <th>CRSElapsedTime</th>\n",
       "      <th>...</th>\n",
       "      <th>ArrDelay</th>\n",
       "      <th>DepDelay</th>\n",
       "      <th>Distance</th>\n",
       "      <th>TaxiIn</th>\n",
       "      <th>TaxiOut</th>\n",
       "      <th>CarrierDelay</th>\n",
       "      <th>WeatherDelay</th>\n",
       "      <th>NASDelay</th>\n",
       "      <th>SecurityDelay</th>\n",
       "      <th>LateAircraftDelay</th>\n",
       "    </tr>\n",
       "  </thead>\n",
       "  <tbody>\n",
       "    <tr>\n",
       "      <th>0</th>\n",
       "      <td>3.0</td>\n",
       "      <td>25.0</td>\n",
       "      <td>2.0</td>\n",
       "      <td>1124.0</td>\n",
       "      <td>1115.0</td>\n",
       "      <td>1221.0</td>\n",
       "      <td>1215.0</td>\n",
       "      <td>1095.0</td>\n",
       "      <td>57.0</td>\n",
       "      <td>60.0</td>\n",
       "      <td>...</td>\n",
       "      <td>6.0</td>\n",
       "      <td>9.0</td>\n",
       "      <td>251.0</td>\n",
       "      <td>5.0</td>\n",
       "      <td>7.0</td>\n",
       "      <td>2.0</td>\n",
       "      <td>0.0</td>\n",
       "      <td>2.0</td>\n",
       "      <td>0.0</td>\n",
       "      <td>8.0</td>\n",
       "    </tr>\n",
       "    <tr>\n",
       "      <th>1</th>\n",
       "      <td>8.0</td>\n",
       "      <td>9.0</td>\n",
       "      <td>6.0</td>\n",
       "      <td>1152.0</td>\n",
       "      <td>1130.0</td>\n",
       "      <td>1555.0</td>\n",
       "      <td>1520.0</td>\n",
       "      <td>1690.0</td>\n",
       "      <td>183.0</td>\n",
       "      <td>170.0</td>\n",
       "      <td>...</td>\n",
       "      <td>35.0</td>\n",
       "      <td>22.0</td>\n",
       "      <td>1121.0</td>\n",
       "      <td>7.0</td>\n",
       "      <td>23.0</td>\n",
       "      <td>22.0</td>\n",
       "      <td>0.0</td>\n",
       "      <td>13.0</td>\n",
       "      <td>0.0</td>\n",
       "      <td>0.0</td>\n",
       "    </tr>\n",
       "    <tr>\n",
       "      <th>2</th>\n",
       "      <td>12.0</td>\n",
       "      <td>13.0</td>\n",
       "      <td>6.0</td>\n",
       "      <td>1226.0</td>\n",
       "      <td>1210.0</td>\n",
       "      <td>1405.0</td>\n",
       "      <td>1355.0</td>\n",
       "      <td>5615.0</td>\n",
       "      <td>99.0</td>\n",
       "      <td>105.0</td>\n",
       "      <td>...</td>\n",
       "      <td>10.0</td>\n",
       "      <td>16.0</td>\n",
       "      <td>528.0</td>\n",
       "      <td>7.0</td>\n",
       "      <td>13.0</td>\n",
       "      <td>2.0</td>\n",
       "      <td>0.0</td>\n",
       "      <td>2.0</td>\n",
       "      <td>0.0</td>\n",
       "      <td>8.0</td>\n",
       "    </tr>\n",
       "    <tr>\n",
       "      <th>3</th>\n",
       "      <td>1.0</td>\n",
       "      <td>21.0</td>\n",
       "      <td>1.0</td>\n",
       "      <td>2046.0</td>\n",
       "      <td>1950.0</td>\n",
       "      <td>2158.0</td>\n",
       "      <td>2045.0</td>\n",
       "      <td>1274.0</td>\n",
       "      <td>132.0</td>\n",
       "      <td>115.0</td>\n",
       "      <td>...</td>\n",
       "      <td>73.0</td>\n",
       "      <td>56.0</td>\n",
       "      <td>629.0</td>\n",
       "      <td>4.0</td>\n",
       "      <td>25.0</td>\n",
       "      <td>7.0</td>\n",
       "      <td>0.0</td>\n",
       "      <td>17.0</td>\n",
       "      <td>0.0</td>\n",
       "      <td>49.0</td>\n",
       "    </tr>\n",
       "    <tr>\n",
       "      <th>4</th>\n",
       "      <td>12.0</td>\n",
       "      <td>26.0</td>\n",
       "      <td>5.0</td>\n",
       "      <td>1759.0</td>\n",
       "      <td>1709.0</td>\n",
       "      <td>2026.0</td>\n",
       "      <td>1937.0</td>\n",
       "      <td>6180.0</td>\n",
       "      <td>87.0</td>\n",
       "      <td>88.0</td>\n",
       "      <td>...</td>\n",
       "      <td>49.0</td>\n",
       "      <td>50.0</td>\n",
       "      <td>495.0</td>\n",
       "      <td>3.0</td>\n",
       "      <td>13.0</td>\n",
       "      <td>0.0</td>\n",
       "      <td>0.0</td>\n",
       "      <td>0.0</td>\n",
       "      <td>0.0</td>\n",
       "      <td>49.0</td>\n",
       "    </tr>\n",
       "  </tbody>\n",
       "</table>\n",
       "<p>5 rows × 21 columns</p>\n",
       "</div>"
      ],
      "text/plain": [
       "   Month  DayofMonth  DayOfWeek  DepTime  CRSDepTime  ArrTime  CRSArrTime  \\\n",
       "0    3.0        25.0        2.0   1124.0      1115.0   1221.0      1215.0   \n",
       "1    8.0         9.0        6.0   1152.0      1130.0   1555.0      1520.0   \n",
       "2   12.0        13.0        6.0   1226.0      1210.0   1405.0      1355.0   \n",
       "3    1.0        21.0        1.0   2046.0      1950.0   2158.0      2045.0   \n",
       "4   12.0        26.0        5.0   1759.0      1709.0   2026.0      1937.0   \n",
       "\n",
       "   FlightNum  ActualElapsedTime  CRSElapsedTime  ...  ArrDelay  DepDelay  \\\n",
       "0     1095.0               57.0            60.0  ...       6.0       9.0   \n",
       "1     1690.0              183.0           170.0  ...      35.0      22.0   \n",
       "2     5615.0               99.0           105.0  ...      10.0      16.0   \n",
       "3     1274.0              132.0           115.0  ...      73.0      56.0   \n",
       "4     6180.0               87.0            88.0  ...      49.0      50.0   \n",
       "\n",
       "   Distance  TaxiIn  TaxiOut  CarrierDelay  WeatherDelay  NASDelay  \\\n",
       "0     251.0     5.0      7.0           2.0           0.0       2.0   \n",
       "1    1121.0     7.0     23.0          22.0           0.0      13.0   \n",
       "2     528.0     7.0     13.0           2.0           0.0       2.0   \n",
       "3     629.0     4.0     25.0           7.0           0.0      17.0   \n",
       "4     495.0     3.0     13.0           0.0           0.0       0.0   \n",
       "\n",
       "   SecurityDelay  LateAircraftDelay  \n",
       "0            0.0                8.0  \n",
       "1            0.0                0.0  \n",
       "2            0.0                8.0  \n",
       "3            0.0               49.0  \n",
       "4            0.0               49.0  \n",
       "\n",
       "[5 rows x 21 columns]"
      ]
     },
     "execution_count": 7,
     "metadata": {},
     "output_type": "execute_result"
    }
   ],
   "source": [
    "from sklearn.impute import SimpleImputer\n",
    "\n",
    "imp = SimpleImputer(missing_values = np.nan, strategy = 'median')\n",
    "\n",
    "flyTemp = imp.fit_transform(flyNum)\n",
    "\n",
    "flyNum = pd.DataFrame(flyTemp, columns = numVar)\n",
    "\n",
    "print(flyNum.isna().sum())\n",
    "\n",
    "flyNum.head()"
   ]
  },
  {
   "cell_type": "markdown",
   "id": "103c8978",
   "metadata": {},
   "source": [
    "Igual que en el cas anterior apliquem RobustScaler i normalitzem"
   ]
  },
  {
   "cell_type": "code",
   "execution_count": 8,
   "id": "229d5987",
   "metadata": {},
   "outputs": [
    {
     "name": "stdout",
     "output_type": "stream",
     "text": [
      "(100000, 21)\n"
     ]
    },
    {
     "data": {
      "text/html": [
       "<div>\n",
       "<style scoped>\n",
       "    .dataframe tbody tr th:only-of-type {\n",
       "        vertical-align: middle;\n",
       "    }\n",
       "\n",
       "    .dataframe tbody tr th {\n",
       "        vertical-align: top;\n",
       "    }\n",
       "\n",
       "    .dataframe thead th {\n",
       "        text-align: right;\n",
       "    }\n",
       "</style>\n",
       "<table border=\"1\" class=\"dataframe\">\n",
       "  <thead>\n",
       "    <tr style=\"text-align: right;\">\n",
       "      <th></th>\n",
       "      <th>Month</th>\n",
       "      <th>DayofMonth</th>\n",
       "      <th>DayOfWeek</th>\n",
       "      <th>DepTime</th>\n",
       "      <th>CRSDepTime</th>\n",
       "      <th>ArrTime</th>\n",
       "      <th>CRSArrTime</th>\n",
       "      <th>FlightNum</th>\n",
       "      <th>ActualElapsedTime</th>\n",
       "      <th>CRSElapsedTime</th>\n",
       "      <th>...</th>\n",
       "      <th>ArrDelay</th>\n",
       "      <th>DepDelay</th>\n",
       "      <th>Distance</th>\n",
       "      <th>TaxiIn</th>\n",
       "      <th>TaxiOut</th>\n",
       "      <th>CarrierDelay</th>\n",
       "      <th>WeatherDelay</th>\n",
       "      <th>NASDelay</th>\n",
       "      <th>SecurityDelay</th>\n",
       "      <th>LateAircraftDelay</th>\n",
       "    </tr>\n",
       "  </thead>\n",
       "  <tbody>\n",
       "    <tr>\n",
       "      <th>0</th>\n",
       "      <td>0.181818</td>\n",
       "      <td>0.800000</td>\n",
       "      <td>0.166667</td>\n",
       "      <td>0.468112</td>\n",
       "      <td>0.472434</td>\n",
       "      <td>0.508545</td>\n",
       "      <td>0.514843</td>\n",
       "      <td>0.112332</td>\n",
       "      <td>0.064417</td>\n",
       "      <td>0.066874</td>\n",
       "      <td>...</td>\n",
       "      <td>0.038089</td>\n",
       "      <td>0.001980</td>\n",
       "      <td>0.044616</td>\n",
       "      <td>0.028902</td>\n",
       "      <td>0.018919</td>\n",
       "      <td>0.001434</td>\n",
       "      <td>0.0</td>\n",
       "      <td>0.001552</td>\n",
       "      <td>0.0</td>\n",
       "      <td>0.013769</td>\n",
       "    </tr>\n",
       "    <tr>\n",
       "      <th>1</th>\n",
       "      <td>0.636364</td>\n",
       "      <td>0.266667</td>\n",
       "      <td>0.833333</td>\n",
       "      <td>0.479783</td>\n",
       "      <td>0.478796</td>\n",
       "      <td>0.647770</td>\n",
       "      <td>0.644190</td>\n",
       "      <td>0.173426</td>\n",
       "      <td>0.257669</td>\n",
       "      <td>0.237947</td>\n",
       "      <td>...</td>\n",
       "      <td>0.058172</td>\n",
       "      <td>0.010561</td>\n",
       "      <td>0.221050</td>\n",
       "      <td>0.040462</td>\n",
       "      <td>0.062162</td>\n",
       "      <td>0.015771</td>\n",
       "      <td>0.0</td>\n",
       "      <td>0.010085</td>\n",
       "      <td>0.0</td>\n",
       "      <td>0.000000</td>\n",
       "    </tr>\n",
       "    <tr>\n",
       "      <th>2</th>\n",
       "      <td>1.000000</td>\n",
       "      <td>0.400000</td>\n",
       "      <td>0.833333</td>\n",
       "      <td>0.510629</td>\n",
       "      <td>0.512723</td>\n",
       "      <td>0.585244</td>\n",
       "      <td>0.574215</td>\n",
       "      <td>0.576445</td>\n",
       "      <td>0.128834</td>\n",
       "      <td>0.136858</td>\n",
       "      <td>...</td>\n",
       "      <td>0.040859</td>\n",
       "      <td>0.006601</td>\n",
       "      <td>0.100791</td>\n",
       "      <td>0.040462</td>\n",
       "      <td>0.035135</td>\n",
       "      <td>0.001434</td>\n",
       "      <td>0.0</td>\n",
       "      <td>0.001552</td>\n",
       "      <td>0.0</td>\n",
       "      <td>0.013769</td>\n",
       "    </tr>\n",
       "    <tr>\n",
       "      <th>3</th>\n",
       "      <td>0.000000</td>\n",
       "      <td>0.666667</td>\n",
       "      <td>0.000000</td>\n",
       "      <td>0.852439</td>\n",
       "      <td>0.826548</td>\n",
       "      <td>0.899125</td>\n",
       "      <td>0.866836</td>\n",
       "      <td>0.130712</td>\n",
       "      <td>0.179448</td>\n",
       "      <td>0.152411</td>\n",
       "      <td>...</td>\n",
       "      <td>0.084488</td>\n",
       "      <td>0.033003</td>\n",
       "      <td>0.121274</td>\n",
       "      <td>0.023121</td>\n",
       "      <td>0.067568</td>\n",
       "      <td>0.005018</td>\n",
       "      <td>0.0</td>\n",
       "      <td>0.013189</td>\n",
       "      <td>0.0</td>\n",
       "      <td>0.084337</td>\n",
       "    </tr>\n",
       "    <tr>\n",
       "      <th>4</th>\n",
       "      <td>1.000000</td>\n",
       "      <td>0.833333</td>\n",
       "      <td>0.666667</td>\n",
       "      <td>0.732805</td>\n",
       "      <td>0.724343</td>\n",
       "      <td>0.844102</td>\n",
       "      <td>0.821035</td>\n",
       "      <td>0.634459</td>\n",
       "      <td>0.110429</td>\n",
       "      <td>0.110420</td>\n",
       "      <td>...</td>\n",
       "      <td>0.067867</td>\n",
       "      <td>0.029043</td>\n",
       "      <td>0.094099</td>\n",
       "      <td>0.017341</td>\n",
       "      <td>0.035135</td>\n",
       "      <td>0.000000</td>\n",
       "      <td>0.0</td>\n",
       "      <td>0.000000</td>\n",
       "      <td>0.0</td>\n",
       "      <td>0.084337</td>\n",
       "    </tr>\n",
       "  </tbody>\n",
       "</table>\n",
       "<p>5 rows × 21 columns</p>\n",
       "</div>"
      ],
      "text/plain": [
       "      Month  DayofMonth  DayOfWeek   DepTime  CRSDepTime   ArrTime  \\\n",
       "0  0.181818    0.800000   0.166667  0.468112    0.472434  0.508545   \n",
       "1  0.636364    0.266667   0.833333  0.479783    0.478796  0.647770   \n",
       "2  1.000000    0.400000   0.833333  0.510629    0.512723  0.585244   \n",
       "3  0.000000    0.666667   0.000000  0.852439    0.826548  0.899125   \n",
       "4  1.000000    0.833333   0.666667  0.732805    0.724343  0.844102   \n",
       "\n",
       "   CRSArrTime  FlightNum  ActualElapsedTime  CRSElapsedTime  ...  ArrDelay  \\\n",
       "0    0.514843   0.112332           0.064417        0.066874  ...  0.038089   \n",
       "1    0.644190   0.173426           0.257669        0.237947  ...  0.058172   \n",
       "2    0.574215   0.576445           0.128834        0.136858  ...  0.040859   \n",
       "3    0.866836   0.130712           0.179448        0.152411  ...  0.084488   \n",
       "4    0.821035   0.634459           0.110429        0.110420  ...  0.067867   \n",
       "\n",
       "   DepDelay  Distance    TaxiIn   TaxiOut  CarrierDelay  WeatherDelay  \\\n",
       "0  0.001980  0.044616  0.028902  0.018919      0.001434           0.0   \n",
       "1  0.010561  0.221050  0.040462  0.062162      0.015771           0.0   \n",
       "2  0.006601  0.100791  0.040462  0.035135      0.001434           0.0   \n",
       "3  0.033003  0.121274  0.023121  0.067568      0.005018           0.0   \n",
       "4  0.029043  0.094099  0.017341  0.035135      0.000000           0.0   \n",
       "\n",
       "   NASDelay  SecurityDelay  LateAircraftDelay  \n",
       "0  0.001552            0.0           0.013769  \n",
       "1  0.010085            0.0           0.000000  \n",
       "2  0.001552            0.0           0.013769  \n",
       "3  0.013189            0.0           0.084337  \n",
       "4  0.000000            0.0           0.084337  \n",
       "\n",
       "[5 rows x 21 columns]"
      ]
     },
     "execution_count": 8,
     "metadata": {},
     "output_type": "execute_result"
    }
   ],
   "source": [
    "import sklearn.preprocessing as sklp\n",
    "\n",
    "scaler = sklp.RobustScaler()\n",
    "\n",
    "fly2NTemp = scaler.fit_transform(flyNum)\n",
    "\n",
    "minmax = sklp.MinMaxScaler()\n",
    "\n",
    "fly2NTemp = minmax.fit_transform(fly2NTemp)\n",
    "\n",
    "flyNum2 = pd.DataFrame(data = fly2NTemp, columns = numVar)\n",
    "\n",
    "print(flyNum2.shape)\n",
    "flyNum2.head()"
   ]
  },
  {
   "cell_type": "markdown",
   "id": "5a495afb",
   "metadata": {},
   "source": [
    "Ara apliquem dummies a les variables categoriques\n",
    "\n"
   ]
  },
  {
   "cell_type": "code",
   "execution_count": 9,
   "id": "4e3e93f4",
   "metadata": {},
   "outputs": [
    {
     "name": "stdout",
     "output_type": "stream",
     "text": [
      "(100000, 5812)\n"
     ]
    }
   ],
   "source": [
    "flyCat2 = pd.get_dummies(data = flyCat, prefix = ['UC-', 'TN-', 'O-', 'D-'])\n",
    "\n",
    "print(flyCat2.shape)"
   ]
  },
  {
   "cell_type": "code",
   "execution_count": 30,
   "id": "569235ca",
   "metadata": {},
   "outputs": [
    {
     "data": {
      "text/html": [
       "<div>\n",
       "<style scoped>\n",
       "    .dataframe tbody tr th:only-of-type {\n",
       "        vertical-align: middle;\n",
       "    }\n",
       "\n",
       "    .dataframe tbody tr th {\n",
       "        vertical-align: top;\n",
       "    }\n",
       "\n",
       "    .dataframe thead th {\n",
       "        text-align: right;\n",
       "    }\n",
       "</style>\n",
       "<table border=\"1\" class=\"dataframe\">\n",
       "  <thead>\n",
       "    <tr style=\"text-align: right;\">\n",
       "      <th></th>\n",
       "      <th>UC-_9E</th>\n",
       "      <th>UC-_AA</th>\n",
       "      <th>UC-_AQ</th>\n",
       "      <th>UC-_AS</th>\n",
       "      <th>UC-_B6</th>\n",
       "      <th>UC-_CO</th>\n",
       "      <th>UC-_DL</th>\n",
       "      <th>UC-_EV</th>\n",
       "      <th>UC-_F9</th>\n",
       "      <th>UC-_FL</th>\n",
       "      <th>...</th>\n",
       "      <th>D-_TXK</th>\n",
       "      <th>D-_TYR</th>\n",
       "      <th>D-_TYS</th>\n",
       "      <th>D-_VLD</th>\n",
       "      <th>D-_VPS</th>\n",
       "      <th>D-_WRG</th>\n",
       "      <th>D-_XNA</th>\n",
       "      <th>D-_YAK</th>\n",
       "      <th>D-_YKM</th>\n",
       "      <th>D-_YUM</th>\n",
       "    </tr>\n",
       "  </thead>\n",
       "  <tbody>\n",
       "    <tr>\n",
       "      <th>1782417</th>\n",
       "      <td>0</td>\n",
       "      <td>0</td>\n",
       "      <td>0</td>\n",
       "      <td>0</td>\n",
       "      <td>0</td>\n",
       "      <td>0</td>\n",
       "      <td>0</td>\n",
       "      <td>0</td>\n",
       "      <td>0</td>\n",
       "      <td>0</td>\n",
       "      <td>...</td>\n",
       "      <td>0</td>\n",
       "      <td>0</td>\n",
       "      <td>0</td>\n",
       "      <td>0</td>\n",
       "      <td>0</td>\n",
       "      <td>0</td>\n",
       "      <td>0</td>\n",
       "      <td>0</td>\n",
       "      <td>0</td>\n",
       "      <td>0</td>\n",
       "    </tr>\n",
       "    <tr>\n",
       "      <th>512712</th>\n",
       "      <td>0</td>\n",
       "      <td>0</td>\n",
       "      <td>0</td>\n",
       "      <td>0</td>\n",
       "      <td>0</td>\n",
       "      <td>0</td>\n",
       "      <td>0</td>\n",
       "      <td>0</td>\n",
       "      <td>0</td>\n",
       "      <td>0</td>\n",
       "      <td>...</td>\n",
       "      <td>0</td>\n",
       "      <td>0</td>\n",
       "      <td>0</td>\n",
       "      <td>0</td>\n",
       "      <td>0</td>\n",
       "      <td>0</td>\n",
       "      <td>0</td>\n",
       "      <td>0</td>\n",
       "      <td>0</td>\n",
       "      <td>0</td>\n",
       "    </tr>\n",
       "    <tr>\n",
       "      <th>447137</th>\n",
       "      <td>0</td>\n",
       "      <td>0</td>\n",
       "      <td>0</td>\n",
       "      <td>0</td>\n",
       "      <td>0</td>\n",
       "      <td>0</td>\n",
       "      <td>0</td>\n",
       "      <td>0</td>\n",
       "      <td>0</td>\n",
       "      <td>0</td>\n",
       "      <td>...</td>\n",
       "      <td>0</td>\n",
       "      <td>0</td>\n",
       "      <td>0</td>\n",
       "      <td>0</td>\n",
       "      <td>0</td>\n",
       "      <td>0</td>\n",
       "      <td>0</td>\n",
       "      <td>0</td>\n",
       "      <td>0</td>\n",
       "      <td>0</td>\n",
       "    </tr>\n",
       "    <tr>\n",
       "      <th>55082</th>\n",
       "      <td>0</td>\n",
       "      <td>0</td>\n",
       "      <td>0</td>\n",
       "      <td>0</td>\n",
       "      <td>0</td>\n",
       "      <td>0</td>\n",
       "      <td>0</td>\n",
       "      <td>0</td>\n",
       "      <td>0</td>\n",
       "      <td>0</td>\n",
       "      <td>...</td>\n",
       "      <td>0</td>\n",
       "      <td>0</td>\n",
       "      <td>0</td>\n",
       "      <td>0</td>\n",
       "      <td>0</td>\n",
       "      <td>0</td>\n",
       "      <td>0</td>\n",
       "      <td>0</td>\n",
       "      <td>0</td>\n",
       "      <td>0</td>\n",
       "    </tr>\n",
       "    <tr>\n",
       "      <th>877634</th>\n",
       "      <td>0</td>\n",
       "      <td>0</td>\n",
       "      <td>0</td>\n",
       "      <td>0</td>\n",
       "      <td>0</td>\n",
       "      <td>1</td>\n",
       "      <td>0</td>\n",
       "      <td>0</td>\n",
       "      <td>0</td>\n",
       "      <td>0</td>\n",
       "      <td>...</td>\n",
       "      <td>0</td>\n",
       "      <td>0</td>\n",
       "      <td>0</td>\n",
       "      <td>0</td>\n",
       "      <td>0</td>\n",
       "      <td>0</td>\n",
       "      <td>0</td>\n",
       "      <td>0</td>\n",
       "      <td>0</td>\n",
       "      <td>0</td>\n",
       "    </tr>\n",
       "  </tbody>\n",
       "</table>\n",
       "<p>5 rows × 5811 columns</p>\n",
       "</div>"
      ],
      "text/plain": [
       "         UC-_9E  UC-_AA  UC-_AQ  UC-_AS  UC-_B6  UC-_CO  UC-_DL  UC-_EV  \\\n",
       "1782417       0       0       0       0       0       0       0       0   \n",
       "512712        0       0       0       0       0       0       0       0   \n",
       "447137        0       0       0       0       0       0       0       0   \n",
       "55082         0       0       0       0       0       0       0       0   \n",
       "877634        0       0       0       0       0       1       0       0   \n",
       "\n",
       "         UC-_F9  UC-_FL  ...  D-_TXK  D-_TYR  D-_TYS  D-_VLD  D-_VPS  D-_WRG  \\\n",
       "1782417       0       0  ...       0       0       0       0       0       0   \n",
       "512712        0       0  ...       0       0       0       0       0       0   \n",
       "447137        0       0  ...       0       0       0       0       0       0   \n",
       "55082         0       0  ...       0       0       0       0       0       0   \n",
       "877634        0       0  ...       0       0       0       0       0       0   \n",
       "\n",
       "         D-_XNA  D-_YAK  D-_YKM  D-_YUM  \n",
       "1782417       0       0       0       0  \n",
       "512712        0       0       0       0  \n",
       "447137        0       0       0       0  \n",
       "55082         0       0       0       0  \n",
       "877634        0       0       0       0  \n",
       "\n",
       "[5 rows x 5811 columns]"
      ]
     },
     "execution_count": 30,
     "metadata": {},
     "output_type": "execute_result"
    }
   ],
   "source": [
    "flyCat2.head()"
   ]
  },
  {
   "cell_type": "code",
   "execution_count": 10,
   "id": "d94de22f",
   "metadata": {
    "scrolled": false
   },
   "outputs": [],
   "source": [
    "#flyCat2.shape\n",
    "a = flyCat2.reset_index(drop=True)"
   ]
  },
  {
   "cell_type": "code",
   "execution_count": 17,
   "id": "f0016dc3",
   "metadata": {},
   "outputs": [
    {
     "data": {
      "text/html": [
       "<div>\n",
       "<style scoped>\n",
       "    .dataframe tbody tr th:only-of-type {\n",
       "        vertical-align: middle;\n",
       "    }\n",
       "\n",
       "    .dataframe tbody tr th {\n",
       "        vertical-align: top;\n",
       "    }\n",
       "\n",
       "    .dataframe thead th {\n",
       "        text-align: right;\n",
       "    }\n",
       "</style>\n",
       "<table border=\"1\" class=\"dataframe\">\n",
       "  <thead>\n",
       "    <tr style=\"text-align: right;\">\n",
       "      <th></th>\n",
       "      <th>UC-_9E</th>\n",
       "      <th>UC-_AA</th>\n",
       "      <th>UC-_AQ</th>\n",
       "      <th>UC-_AS</th>\n",
       "      <th>UC-_B6</th>\n",
       "      <th>UC-_CO</th>\n",
       "      <th>UC-_DL</th>\n",
       "      <th>UC-_EV</th>\n",
       "      <th>UC-_F9</th>\n",
       "      <th>UC-_FL</th>\n",
       "      <th>...</th>\n",
       "      <th>D-_TYR</th>\n",
       "      <th>D-_TYS</th>\n",
       "      <th>D-_VLD</th>\n",
       "      <th>D-_VPS</th>\n",
       "      <th>D-_WRG</th>\n",
       "      <th>D-_WYS</th>\n",
       "      <th>D-_XNA</th>\n",
       "      <th>D-_YAK</th>\n",
       "      <th>D-_YKM</th>\n",
       "      <th>D-_YUM</th>\n",
       "    </tr>\n",
       "  </thead>\n",
       "  <tbody>\n",
       "    <tr>\n",
       "      <th>0</th>\n",
       "      <td>0</td>\n",
       "      <td>0</td>\n",
       "      <td>0</td>\n",
       "      <td>0</td>\n",
       "      <td>0</td>\n",
       "      <td>0</td>\n",
       "      <td>0</td>\n",
       "      <td>0</td>\n",
       "      <td>0</td>\n",
       "      <td>0</td>\n",
       "      <td>...</td>\n",
       "      <td>0</td>\n",
       "      <td>0</td>\n",
       "      <td>0</td>\n",
       "      <td>0</td>\n",
       "      <td>0</td>\n",
       "      <td>0</td>\n",
       "      <td>0</td>\n",
       "      <td>0</td>\n",
       "      <td>0</td>\n",
       "      <td>0</td>\n",
       "    </tr>\n",
       "    <tr>\n",
       "      <th>1</th>\n",
       "      <td>0</td>\n",
       "      <td>1</td>\n",
       "      <td>0</td>\n",
       "      <td>0</td>\n",
       "      <td>0</td>\n",
       "      <td>0</td>\n",
       "      <td>0</td>\n",
       "      <td>0</td>\n",
       "      <td>0</td>\n",
       "      <td>0</td>\n",
       "      <td>...</td>\n",
       "      <td>0</td>\n",
       "      <td>0</td>\n",
       "      <td>0</td>\n",
       "      <td>0</td>\n",
       "      <td>0</td>\n",
       "      <td>0</td>\n",
       "      <td>0</td>\n",
       "      <td>0</td>\n",
       "      <td>0</td>\n",
       "      <td>0</td>\n",
       "    </tr>\n",
       "    <tr>\n",
       "      <th>2</th>\n",
       "      <td>0</td>\n",
       "      <td>0</td>\n",
       "      <td>0</td>\n",
       "      <td>0</td>\n",
       "      <td>0</td>\n",
       "      <td>0</td>\n",
       "      <td>0</td>\n",
       "      <td>1</td>\n",
       "      <td>0</td>\n",
       "      <td>0</td>\n",
       "      <td>...</td>\n",
       "      <td>0</td>\n",
       "      <td>0</td>\n",
       "      <td>0</td>\n",
       "      <td>0</td>\n",
       "      <td>0</td>\n",
       "      <td>0</td>\n",
       "      <td>0</td>\n",
       "      <td>0</td>\n",
       "      <td>0</td>\n",
       "      <td>0</td>\n",
       "    </tr>\n",
       "    <tr>\n",
       "      <th>3</th>\n",
       "      <td>0</td>\n",
       "      <td>0</td>\n",
       "      <td>0</td>\n",
       "      <td>0</td>\n",
       "      <td>0</td>\n",
       "      <td>0</td>\n",
       "      <td>0</td>\n",
       "      <td>0</td>\n",
       "      <td>0</td>\n",
       "      <td>0</td>\n",
       "      <td>...</td>\n",
       "      <td>0</td>\n",
       "      <td>0</td>\n",
       "      <td>0</td>\n",
       "      <td>0</td>\n",
       "      <td>0</td>\n",
       "      <td>0</td>\n",
       "      <td>0</td>\n",
       "      <td>0</td>\n",
       "      <td>0</td>\n",
       "      <td>0</td>\n",
       "    </tr>\n",
       "    <tr>\n",
       "      <th>4</th>\n",
       "      <td>0</td>\n",
       "      <td>0</td>\n",
       "      <td>0</td>\n",
       "      <td>0</td>\n",
       "      <td>0</td>\n",
       "      <td>0</td>\n",
       "      <td>0</td>\n",
       "      <td>0</td>\n",
       "      <td>0</td>\n",
       "      <td>0</td>\n",
       "      <td>...</td>\n",
       "      <td>0</td>\n",
       "      <td>0</td>\n",
       "      <td>0</td>\n",
       "      <td>0</td>\n",
       "      <td>0</td>\n",
       "      <td>0</td>\n",
       "      <td>0</td>\n",
       "      <td>0</td>\n",
       "      <td>0</td>\n",
       "      <td>0</td>\n",
       "    </tr>\n",
       "  </tbody>\n",
       "</table>\n",
       "<p>5 rows × 5812 columns</p>\n",
       "</div>"
      ],
      "text/plain": [
       "   UC-_9E  UC-_AA  UC-_AQ  UC-_AS  UC-_B6  UC-_CO  UC-_DL  UC-_EV  UC-_F9  \\\n",
       "0       0       0       0       0       0       0       0       0       0   \n",
       "1       0       1       0       0       0       0       0       0       0   \n",
       "2       0       0       0       0       0       0       0       1       0   \n",
       "3       0       0       0       0       0       0       0       0       0   \n",
       "4       0       0       0       0       0       0       0       0       0   \n",
       "\n",
       "   UC-_FL  ...  D-_TYR  D-_TYS  D-_VLD  D-_VPS  D-_WRG  D-_WYS  D-_XNA  \\\n",
       "0       0  ...       0       0       0       0       0       0       0   \n",
       "1       0  ...       0       0       0       0       0       0       0   \n",
       "2       0  ...       0       0       0       0       0       0       0   \n",
       "3       0  ...       0       0       0       0       0       0       0   \n",
       "4       0  ...       0       0       0       0       0       0       0   \n",
       "\n",
       "   D-_YAK  D-_YKM  D-_YUM  \n",
       "0       0       0       0  \n",
       "1       0       0       0  \n",
       "2       0       0       0  \n",
       "3       0       0       0  \n",
       "4       0       0       0  \n",
       "\n",
       "[5 rows x 5812 columns]"
      ]
     },
     "execution_count": 17,
     "metadata": {},
     "output_type": "execute_result"
    }
   ],
   "source": [
    "a.head()"
   ]
  },
  {
   "cell_type": "code",
   "execution_count": 18,
   "id": "81db067a",
   "metadata": {},
   "outputs": [
    {
     "data": {
      "text/plain": [
       "(100000, 5812)"
      ]
     },
     "execution_count": 18,
     "metadata": {},
     "output_type": "execute_result"
    }
   ],
   "source": [
    "a.shape"
   ]
  },
  {
   "cell_type": "code",
   "execution_count": 11,
   "id": "aca15164",
   "metadata": {},
   "outputs": [],
   "source": [
    "df = pd.merge(flyNum2, a, left_index=True, right_index=True)\n",
    "#df = pd.concat([flyNum2, a], axis=1)"
   ]
  },
  {
   "cell_type": "code",
   "execution_count": 20,
   "id": "5cf65f22",
   "metadata": {},
   "outputs": [
    {
     "data": {
      "text/plain": [
       "(100000, 5833)"
      ]
     },
     "execution_count": 20,
     "metadata": {},
     "output_type": "execute_result"
    }
   ],
   "source": [
    "df.shape"
   ]
  },
  {
   "cell_type": "code",
   "execution_count": 21,
   "id": "b79f6886",
   "metadata": {},
   "outputs": [
    {
     "data": {
      "text/html": [
       "<div>\n",
       "<style scoped>\n",
       "    .dataframe tbody tr th:only-of-type {\n",
       "        vertical-align: middle;\n",
       "    }\n",
       "\n",
       "    .dataframe tbody tr th {\n",
       "        vertical-align: top;\n",
       "    }\n",
       "\n",
       "    .dataframe thead th {\n",
       "        text-align: right;\n",
       "    }\n",
       "</style>\n",
       "<table border=\"1\" class=\"dataframe\">\n",
       "  <thead>\n",
       "    <tr style=\"text-align: right;\">\n",
       "      <th></th>\n",
       "      <th>Month</th>\n",
       "      <th>DayofMonth</th>\n",
       "      <th>DayOfWeek</th>\n",
       "      <th>DepTime</th>\n",
       "      <th>CRSDepTime</th>\n",
       "      <th>ArrTime</th>\n",
       "      <th>CRSArrTime</th>\n",
       "      <th>FlightNum</th>\n",
       "      <th>ActualElapsedTime</th>\n",
       "      <th>CRSElapsedTime</th>\n",
       "      <th>...</th>\n",
       "      <th>D-_TYR</th>\n",
       "      <th>D-_TYS</th>\n",
       "      <th>D-_VLD</th>\n",
       "      <th>D-_VPS</th>\n",
       "      <th>D-_WRG</th>\n",
       "      <th>D-_WYS</th>\n",
       "      <th>D-_XNA</th>\n",
       "      <th>D-_YAK</th>\n",
       "      <th>D-_YKM</th>\n",
       "      <th>D-_YUM</th>\n",
       "    </tr>\n",
       "  </thead>\n",
       "  <tbody>\n",
       "    <tr>\n",
       "      <th>0</th>\n",
       "      <td>0.181818</td>\n",
       "      <td>0.800000</td>\n",
       "      <td>0.166667</td>\n",
       "      <td>0.468112</td>\n",
       "      <td>0.472434</td>\n",
       "      <td>0.508545</td>\n",
       "      <td>0.514843</td>\n",
       "      <td>0.112332</td>\n",
       "      <td>0.064417</td>\n",
       "      <td>0.066874</td>\n",
       "      <td>...</td>\n",
       "      <td>0</td>\n",
       "      <td>0</td>\n",
       "      <td>0</td>\n",
       "      <td>0</td>\n",
       "      <td>0</td>\n",
       "      <td>0</td>\n",
       "      <td>0</td>\n",
       "      <td>0</td>\n",
       "      <td>0</td>\n",
       "      <td>0</td>\n",
       "    </tr>\n",
       "    <tr>\n",
       "      <th>1</th>\n",
       "      <td>0.636364</td>\n",
       "      <td>0.266667</td>\n",
       "      <td>0.833333</td>\n",
       "      <td>0.479783</td>\n",
       "      <td>0.478796</td>\n",
       "      <td>0.647770</td>\n",
       "      <td>0.644190</td>\n",
       "      <td>0.173426</td>\n",
       "      <td>0.257669</td>\n",
       "      <td>0.237947</td>\n",
       "      <td>...</td>\n",
       "      <td>0</td>\n",
       "      <td>0</td>\n",
       "      <td>0</td>\n",
       "      <td>0</td>\n",
       "      <td>0</td>\n",
       "      <td>0</td>\n",
       "      <td>0</td>\n",
       "      <td>0</td>\n",
       "      <td>0</td>\n",
       "      <td>0</td>\n",
       "    </tr>\n",
       "    <tr>\n",
       "      <th>2</th>\n",
       "      <td>1.000000</td>\n",
       "      <td>0.400000</td>\n",
       "      <td>0.833333</td>\n",
       "      <td>0.510629</td>\n",
       "      <td>0.512723</td>\n",
       "      <td>0.585244</td>\n",
       "      <td>0.574215</td>\n",
       "      <td>0.576445</td>\n",
       "      <td>0.128834</td>\n",
       "      <td>0.136858</td>\n",
       "      <td>...</td>\n",
       "      <td>0</td>\n",
       "      <td>0</td>\n",
       "      <td>0</td>\n",
       "      <td>0</td>\n",
       "      <td>0</td>\n",
       "      <td>0</td>\n",
       "      <td>0</td>\n",
       "      <td>0</td>\n",
       "      <td>0</td>\n",
       "      <td>0</td>\n",
       "    </tr>\n",
       "    <tr>\n",
       "      <th>3</th>\n",
       "      <td>0.000000</td>\n",
       "      <td>0.666667</td>\n",
       "      <td>0.000000</td>\n",
       "      <td>0.852439</td>\n",
       "      <td>0.826548</td>\n",
       "      <td>0.899125</td>\n",
       "      <td>0.866836</td>\n",
       "      <td>0.130712</td>\n",
       "      <td>0.179448</td>\n",
       "      <td>0.152411</td>\n",
       "      <td>...</td>\n",
       "      <td>0</td>\n",
       "      <td>0</td>\n",
       "      <td>0</td>\n",
       "      <td>0</td>\n",
       "      <td>0</td>\n",
       "      <td>0</td>\n",
       "      <td>0</td>\n",
       "      <td>0</td>\n",
       "      <td>0</td>\n",
       "      <td>0</td>\n",
       "    </tr>\n",
       "    <tr>\n",
       "      <th>4</th>\n",
       "      <td>1.000000</td>\n",
       "      <td>0.833333</td>\n",
       "      <td>0.666667</td>\n",
       "      <td>0.732805</td>\n",
       "      <td>0.724343</td>\n",
       "      <td>0.844102</td>\n",
       "      <td>0.821035</td>\n",
       "      <td>0.634459</td>\n",
       "      <td>0.110429</td>\n",
       "      <td>0.110420</td>\n",
       "      <td>...</td>\n",
       "      <td>0</td>\n",
       "      <td>0</td>\n",
       "      <td>0</td>\n",
       "      <td>0</td>\n",
       "      <td>0</td>\n",
       "      <td>0</td>\n",
       "      <td>0</td>\n",
       "      <td>0</td>\n",
       "      <td>0</td>\n",
       "      <td>0</td>\n",
       "    </tr>\n",
       "  </tbody>\n",
       "</table>\n",
       "<p>5 rows × 5833 columns</p>\n",
       "</div>"
      ],
      "text/plain": [
       "      Month  DayofMonth  DayOfWeek   DepTime  CRSDepTime   ArrTime  \\\n",
       "0  0.181818    0.800000   0.166667  0.468112    0.472434  0.508545   \n",
       "1  0.636364    0.266667   0.833333  0.479783    0.478796  0.647770   \n",
       "2  1.000000    0.400000   0.833333  0.510629    0.512723  0.585244   \n",
       "3  0.000000    0.666667   0.000000  0.852439    0.826548  0.899125   \n",
       "4  1.000000    0.833333   0.666667  0.732805    0.724343  0.844102   \n",
       "\n",
       "   CRSArrTime  FlightNum  ActualElapsedTime  CRSElapsedTime  ...  D-_TYR  \\\n",
       "0    0.514843   0.112332           0.064417        0.066874  ...       0   \n",
       "1    0.644190   0.173426           0.257669        0.237947  ...       0   \n",
       "2    0.574215   0.576445           0.128834        0.136858  ...       0   \n",
       "3    0.866836   0.130712           0.179448        0.152411  ...       0   \n",
       "4    0.821035   0.634459           0.110429        0.110420  ...       0   \n",
       "\n",
       "   D-_TYS  D-_VLD  D-_VPS  D-_WRG  D-_WYS  D-_XNA  D-_YAK  D-_YKM  D-_YUM  \n",
       "0       0       0       0       0       0       0       0       0       0  \n",
       "1       0       0       0       0       0       0       0       0       0  \n",
       "2       0       0       0       0       0       0       0       0       0  \n",
       "3       0       0       0       0       0       0       0       0       0  \n",
       "4       0       0       0       0       0       0       0       0       0  \n",
       "\n",
       "[5 rows x 5833 columns]"
      ]
     },
     "execution_count": 21,
     "metadata": {},
     "output_type": "execute_result"
    }
   ],
   "source": [
    "df.head()"
   ]
  },
  {
   "cell_type": "code",
   "execution_count": 22,
   "id": "b2795970",
   "metadata": {},
   "outputs": [
    {
     "name": "stdout",
     "output_type": "stream",
     "text": [
      "(100000, 5812)\n",
      "(100000, 21)\n",
      "(100000, 5833)\n"
     ]
    }
   ],
   "source": [
    "print(flyCat2.shape)\n",
    "print(flyNum2.shape)\n",
    "print(df.shape)"
   ]
  },
  {
   "cell_type": "markdown",
   "id": "6f564bcb",
   "metadata": {},
   "source": [
    "Com tenim un dataset amb un total de 5833 columnes passem a reduir-lo aplicant una PCA\n",
    "\n",
    "### PCA"
   ]
  },
  {
   "cell_type": "code",
   "execution_count": 12,
   "id": "2a8121aa",
   "metadata": {},
   "outputs": [
    {
     "data": {
      "text/plain": [
       "0        1\n",
       "1        1\n",
       "2        1\n",
       "3        1\n",
       "4        1\n",
       "        ..\n",
       "99995    1\n",
       "99996    1\n",
       "99997    1\n",
       "99998    1\n",
       "99999    0\n",
       "Name: retard, Length: 100000, dtype: int64"
      ]
     },
     "execution_count": 12,
     "metadata": {},
     "output_type": "execute_result"
    }
   ],
   "source": [
    "retards = retards.reset_index(drop=True)\n",
    "retards"
   ]
  },
  {
   "cell_type": "code",
   "execution_count": 25,
   "id": "f40977e4",
   "metadata": {
    "scrolled": true
   },
   "outputs": [
    {
     "data": {
      "text/plain": [
       "1    89517\n",
       "0    10483\n",
       "Name: retard, dtype: int64"
      ]
     },
     "execution_count": 25,
     "metadata": {},
     "output_type": "execute_result"
    }
   ],
   "source": [
    "retards.value_counts()"
   ]
  },
  {
   "cell_type": "code",
   "execution_count": 28,
   "id": "2a35d383",
   "metadata": {},
   "outputs": [
    {
     "ename": "MemoryError",
     "evalue": "Unable to allocate 4.35 GiB for an array with shape (100000, 5833) and data type float64",
     "output_type": "error",
     "traceback": [
      "\u001b[1;31m---------------------------------------------------------------------------\u001b[0m",
      "\u001b[1;31mMemoryError\u001b[0m                               Traceback (most recent call last)",
      "\u001b[1;32mC:\\Users\\GUILLE~1\\AppData\\Local\\Temp/ipykernel_7920/1192173359.py\u001b[0m in \u001b[0;36m<module>\u001b[1;34m\u001b[0m\n\u001b[0;32m      3\u001b[0m \u001b[1;31m#pca = PCA(.95)#Retenga el 95% de la informacióm\u001b[0m\u001b[1;33m\u001b[0m\u001b[1;33m\u001b[0m\u001b[0m\n\u001b[0;32m      4\u001b[0m \u001b[1;33m\u001b[0m\u001b[0m\n\u001b[1;32m----> 5\u001b[1;33m \u001b[0mpca\u001b[0m \u001b[1;33m=\u001b[0m \u001b[0mPCA\u001b[0m\u001b[1;33m(\u001b[0m\u001b[1;33m)\u001b[0m\u001b[1;33m.\u001b[0m\u001b[0mfit\u001b[0m\u001b[1;33m(\u001b[0m\u001b[0mdf\u001b[0m\u001b[1;33m)\u001b[0m\u001b[1;33m\u001b[0m\u001b[1;33m\u001b[0m\u001b[0m\n\u001b[0m",
      "\u001b[1;32m~\\anaconda3\\lib\\site-packages\\sklearn\\decomposition\\_pca.py\u001b[0m in \u001b[0;36mfit\u001b[1;34m(self, X, y)\u001b[0m\n\u001b[0;32m    380\u001b[0m             \u001b[0mReturns\u001b[0m \u001b[0mthe\u001b[0m \u001b[0minstance\u001b[0m \u001b[0mitself\u001b[0m\u001b[1;33m.\u001b[0m\u001b[1;33m\u001b[0m\u001b[1;33m\u001b[0m\u001b[0m\n\u001b[0;32m    381\u001b[0m         \"\"\"\n\u001b[1;32m--> 382\u001b[1;33m         \u001b[0mself\u001b[0m\u001b[1;33m.\u001b[0m\u001b[0m_fit\u001b[0m\u001b[1;33m(\u001b[0m\u001b[0mX\u001b[0m\u001b[1;33m)\u001b[0m\u001b[1;33m\u001b[0m\u001b[1;33m\u001b[0m\u001b[0m\n\u001b[0m\u001b[0;32m    383\u001b[0m         \u001b[1;32mreturn\u001b[0m \u001b[0mself\u001b[0m\u001b[1;33m\u001b[0m\u001b[1;33m\u001b[0m\u001b[0m\n\u001b[0;32m    384\u001b[0m \u001b[1;33m\u001b[0m\u001b[0m\n",
      "\u001b[1;32m~\\anaconda3\\lib\\site-packages\\sklearn\\decomposition\\_pca.py\u001b[0m in \u001b[0;36m_fit\u001b[1;34m(self, X)\u001b[0m\n\u001b[0;32m    455\u001b[0m         \u001b[1;31m# Call different fits for either full or truncated SVD\u001b[0m\u001b[1;33m\u001b[0m\u001b[1;33m\u001b[0m\u001b[0m\n\u001b[0;32m    456\u001b[0m         \u001b[1;32mif\u001b[0m \u001b[0mself\u001b[0m\u001b[1;33m.\u001b[0m\u001b[0m_fit_svd_solver\u001b[0m \u001b[1;33m==\u001b[0m \u001b[1;34m\"full\"\u001b[0m\u001b[1;33m:\u001b[0m\u001b[1;33m\u001b[0m\u001b[1;33m\u001b[0m\u001b[0m\n\u001b[1;32m--> 457\u001b[1;33m             \u001b[1;32mreturn\u001b[0m \u001b[0mself\u001b[0m\u001b[1;33m.\u001b[0m\u001b[0m_fit_full\u001b[0m\u001b[1;33m(\u001b[0m\u001b[0mX\u001b[0m\u001b[1;33m,\u001b[0m \u001b[0mn_components\u001b[0m\u001b[1;33m)\u001b[0m\u001b[1;33m\u001b[0m\u001b[1;33m\u001b[0m\u001b[0m\n\u001b[0m\u001b[0;32m    458\u001b[0m         \u001b[1;32melif\u001b[0m \u001b[0mself\u001b[0m\u001b[1;33m.\u001b[0m\u001b[0m_fit_svd_solver\u001b[0m \u001b[1;32min\u001b[0m \u001b[1;33m[\u001b[0m\u001b[1;34m\"arpack\"\u001b[0m\u001b[1;33m,\u001b[0m \u001b[1;34m\"randomized\"\u001b[0m\u001b[1;33m]\u001b[0m\u001b[1;33m:\u001b[0m\u001b[1;33m\u001b[0m\u001b[1;33m\u001b[0m\u001b[0m\n\u001b[0;32m    459\u001b[0m             \u001b[1;32mreturn\u001b[0m \u001b[0mself\u001b[0m\u001b[1;33m.\u001b[0m\u001b[0m_fit_truncated\u001b[0m\u001b[1;33m(\u001b[0m\u001b[0mX\u001b[0m\u001b[1;33m,\u001b[0m \u001b[0mn_components\u001b[0m\u001b[1;33m,\u001b[0m \u001b[0mself\u001b[0m\u001b[1;33m.\u001b[0m\u001b[0m_fit_svd_solver\u001b[0m\u001b[1;33m)\u001b[0m\u001b[1;33m\u001b[0m\u001b[1;33m\u001b[0m\u001b[0m\n",
      "\u001b[1;32m~\\anaconda3\\lib\\site-packages\\sklearn\\decomposition\\_pca.py\u001b[0m in \u001b[0;36m_fit_full\u001b[1;34m(self, X, n_components)\u001b[0m\n\u001b[0;32m    490\u001b[0m         \u001b[0mX\u001b[0m \u001b[1;33m-=\u001b[0m \u001b[0mself\u001b[0m\u001b[1;33m.\u001b[0m\u001b[0mmean_\u001b[0m\u001b[1;33m\u001b[0m\u001b[1;33m\u001b[0m\u001b[0m\n\u001b[0;32m    491\u001b[0m \u001b[1;33m\u001b[0m\u001b[0m\n\u001b[1;32m--> 492\u001b[1;33m         \u001b[0mU\u001b[0m\u001b[1;33m,\u001b[0m \u001b[0mS\u001b[0m\u001b[1;33m,\u001b[0m \u001b[0mVt\u001b[0m \u001b[1;33m=\u001b[0m \u001b[0mlinalg\u001b[0m\u001b[1;33m.\u001b[0m\u001b[0msvd\u001b[0m\u001b[1;33m(\u001b[0m\u001b[0mX\u001b[0m\u001b[1;33m,\u001b[0m \u001b[0mfull_matrices\u001b[0m\u001b[1;33m=\u001b[0m\u001b[1;32mFalse\u001b[0m\u001b[1;33m)\u001b[0m\u001b[1;33m\u001b[0m\u001b[1;33m\u001b[0m\u001b[0m\n\u001b[0m\u001b[0;32m    493\u001b[0m         \u001b[1;31m# flip eigenvectors' sign to enforce deterministic output\u001b[0m\u001b[1;33m\u001b[0m\u001b[1;33m\u001b[0m\u001b[0m\n\u001b[0;32m    494\u001b[0m         \u001b[0mU\u001b[0m\u001b[1;33m,\u001b[0m \u001b[0mVt\u001b[0m \u001b[1;33m=\u001b[0m \u001b[0msvd_flip\u001b[0m\u001b[1;33m(\u001b[0m\u001b[0mU\u001b[0m\u001b[1;33m,\u001b[0m \u001b[0mVt\u001b[0m\u001b[1;33m)\u001b[0m\u001b[1;33m\u001b[0m\u001b[1;33m\u001b[0m\u001b[0m\n",
      "\u001b[1;32m~\\anaconda3\\lib\\site-packages\\scipy\\linalg\\decomp_svd.py\u001b[0m in \u001b[0;36msvd\u001b[1;34m(a, full_matrices, compute_uv, overwrite_a, check_finite, lapack_driver)\u001b[0m\n\u001b[0;32m    125\u001b[0m \u001b[1;33m\u001b[0m\u001b[0m\n\u001b[0;32m    126\u001b[0m     \u001b[1;31m# perform decomposition\u001b[0m\u001b[1;33m\u001b[0m\u001b[1;33m\u001b[0m\u001b[0m\n\u001b[1;32m--> 127\u001b[1;33m     u, s, v, info = gesXd(a1, compute_uv=compute_uv, lwork=lwork,\n\u001b[0m\u001b[0;32m    128\u001b[0m                           full_matrices=full_matrices, overwrite_a=overwrite_a)\n\u001b[0;32m    129\u001b[0m \u001b[1;33m\u001b[0m\u001b[0m\n",
      "\u001b[1;31mMemoryError\u001b[0m: Unable to allocate 4.35 GiB for an array with shape (100000, 5833) and data type float64"
     ]
    }
   ],
   "source": [
    "from sklearn.decomposition import PCA\n",
    "\n",
    "#pca = PCA(.95)#Retenga el 95% de la informacióm\n",
    "\n",
    "pca = PCA().fit(df)"
   ]
  },
  {
   "cell_type": "markdown",
   "id": "6e26480d",
   "metadata": {},
   "source": [
    "Reduïm la mostra per intentar processar la PCA"
   ]
  },
  {
   "cell_type": "code",
   "execution_count": 13,
   "id": "1327382f",
   "metadata": {},
   "outputs": [
    {
     "data": {
      "text/plain": [
       "(100000, 5834)"
      ]
     },
     "execution_count": 13,
     "metadata": {},
     "output_type": "execute_result"
    }
   ],
   "source": [
    "df2 = pd.merge(df, retards, left_index=True, right_index=True)\n",
    "df2.shape"
   ]
  },
  {
   "cell_type": "code",
   "execution_count": 14,
   "id": "2d1665ae",
   "metadata": {},
   "outputs": [
    {
     "data": {
      "text/plain": [
       "(10000, 5834)"
      ]
     },
     "execution_count": 14,
     "metadata": {},
     "output_type": "execute_result"
    }
   ],
   "source": [
    "dfReduct = df2.sample(n=10000, random_state=42)\n",
    "dfReduct.shape"
   ]
  },
  {
   "cell_type": "code",
   "execution_count": 16,
   "id": "95a33d64",
   "metadata": {},
   "outputs": [],
   "source": [
    "from sklearn.decomposition import PCA\n",
    "pca = PCA(.95)\n",
    "retardsReduct = dfReduct.loc[:,'retard']"
   ]
  },
  {
   "cell_type": "code",
   "execution_count": 17,
   "id": "a62ab52b",
   "metadata": {},
   "outputs": [],
   "source": [
    "dfReduct = dfReduct.drop('retard', axis=1)"
   ]
  },
  {
   "cell_type": "code",
   "execution_count": 18,
   "id": "518b1554",
   "metadata": {},
   "outputs": [],
   "source": [
    "pca.fit(dfReduct)\n",
    "dfPCA = pca.transform(dfReduct)"
   ]
  },
  {
   "cell_type": "code",
   "execution_count": 19,
   "id": "4cfdf849",
   "metadata": {},
   "outputs": [
    {
     "data": {
      "text/plain": [
       "(10000, 2664)"
      ]
     },
     "execution_count": 19,
     "metadata": {},
     "output_type": "execute_result"
    }
   ],
   "source": [
    "dfPCA.shape"
   ]
  },
  {
   "cell_type": "code",
   "execution_count": 20,
   "id": "fa647874",
   "metadata": {},
   "outputs": [
    {
     "data": {
      "image/png": "[encoded data removed]",
      "text/plain": [
       "<Figure size 432x288 with 1 Axes>"
      ]
     },
     "metadata": {},
     "output_type": "display_data"
    }
   ],
   "source": [
    "sns.set()\n",
    "plt.plot(np.cumsum(pca.explained_variance_ratio_))\n",
    "plt.xlabel('número de components')\n",
    "plt.ylabel('cumulative explained variance')\n",
    "plt.show()"
   ]
  },
  {
   "cell_type": "markdown",
   "id": "29cd3647",
   "metadata": {},
   "source": [
    "Un cop reduit el número de variables mirem com de desbalancejats estan els models"
   ]
  },
  {
   "cell_type": "code",
   "execution_count": 39,
   "id": "a2d8e374",
   "metadata": {},
   "outputs": [
    {
     "data": {
      "image/png": "[encoded data removed]",
      "text/plain": [
       "<Figure size 432x288 with 1 Axes>"
      ]
     },
     "metadata": {
      "needs_background": "light"
     },
     "output_type": "display_data"
    }
   ],
   "source": [
    "retardsReduct.value_counts().plot(kind='bar')\n",
    "plt.show()"
   ]
  },
  {
   "cell_type": "markdown",
   "id": "624c87c4",
   "metadata": {},
   "source": [
    "Com el model està molt desbalancejat convé equilibar-lo (Cal dividir primer el dataset i després rebalancejar). "
   ]
  },
  {
   "cell_type": "code",
   "execution_count": 21,
   "id": "4a370c16",
   "metadata": {},
   "outputs": [
    {
     "name": "stdout",
     "output_type": "stream",
     "text": [
      "(7500, 2664) \n",
      " (7500,) \n",
      " (2500, 2664) \n",
      " (2500,)\n"
     ]
    }
   ],
   "source": [
    "from sklearn.model_selection import train_test_split\n",
    "\n",
    "x_train, x_test, y_train, y_test = train_test_split(dfPCA, retardsReduct, test_size = 0.25, random_state = 42)\n",
    "\n",
    "print(x_train.shape, '\\n', y_train.shape, '\\n', x_test.shape, '\\n', y_test.shape)"
   ]
  },
  {
   "cell_type": "markdown",
   "id": "e7b78875",
   "metadata": {},
   "source": [
    "Com el dataset és molt gran una opció seria agafar més mostra. Però degut als problemes de memòria serà una millor opció generar dades noves a partir de la PCA amb SMOUT"
   ]
  },
  {
   "cell_type": "code",
   "execution_count": 43,
   "id": "231cba2b",
   "metadata": {
    "scrolled": true
   },
   "outputs": [
    {
     "data": {
      "text/plain": [
       "1    6691\n",
       "0     809\n",
       "Name: retard, dtype: int64"
      ]
     },
     "execution_count": 43,
     "metadata": {},
     "output_type": "execute_result"
    }
   ],
   "source": [
    "y_train.value_counts()"
   ]
  },
  {
   "cell_type": "code",
   "execution_count": 22,
   "id": "64a71864",
   "metadata": {},
   "outputs": [],
   "source": [
    "from imblearn.over_sampling import SMOTE\n",
    "\n",
    "x_resampled, y_resampled = SMOTE().fit_resample(x_train, y_train)"
   ]
  },
  {
   "cell_type": "code",
   "execution_count": 23,
   "id": "2e5708a8",
   "metadata": {},
   "outputs": [
    {
     "data": {
      "text/plain": [
       "1    6691\n",
       "0    6691\n",
       "Name: retard, dtype: int64"
      ]
     },
     "execution_count": 23,
     "metadata": {},
     "output_type": "execute_result"
    }
   ],
   "source": [
    "y_resampled.value_counts()"
   ]
  },
  {
   "cell_type": "code",
   "execution_count": 46,
   "id": "087f64b5",
   "metadata": {
    "scrolled": true
   },
   "outputs": [
    {
     "ename": "NameError",
     "evalue": "name 'imblearn' is not defined",
     "output_type": "error",
     "traceback": [
      "\u001b[1;31m---------------------------------------------------------------------------\u001b[0m",
      "\u001b[1;31mNameError\u001b[0m                                 Traceback (most recent call last)",
      "\u001b[1;32mC:\\Users\\GUILLE~1\\AppData\\Local\\Temp/ipykernel_7920/2763361883.py\u001b[0m in \u001b[0;36m<module>\u001b[1;34m\u001b[0m\n\u001b[1;32m----> 1\u001b[1;33m \u001b[0mprint\u001b[0m\u001b[1;33m(\u001b[0m\u001b[0mimblearn\u001b[0m\u001b[1;33m.\u001b[0m\u001b[0m__version__\u001b[0m\u001b[1;33m)\u001b[0m\u001b[1;31m# No sé si m'he de preocupar que això funcioni o no\u001b[0m\u001b[1;33m\u001b[0m\u001b[1;33m\u001b[0m\u001b[0m\n\u001b[0m",
      "\u001b[1;31mNameError\u001b[0m: name 'imblearn' is not defined"
     ]
    }
   ],
   "source": [
    "print(imblearn.__version__)# No sé si m'he de preocupar que això funcioni o no"
   ]
  },
  {
   "cell_type": "markdown",
   "id": "55ebc13d",
   "metadata": {},
   "source": [
    "Amb tots els processos realitzats hem escalat les variables, reduït les dimensions del dataframe i en el cas del test que hi hagi la mateixa proporció de vols amb retard i sense. Ara passem a aplicar els models."
   ]
  },
  {
   "cell_type": "markdown",
   "id": "337b027e",
   "metadata": {},
   "source": [
    "### Models a aplicar\n",
    "\n",
    "* Decision tree\n",
    "* Suport vector machine \n",
    "* Logistic regression"
   ]
  },
  {
   "cell_type": "code",
   "execution_count": 25,
   "id": "db088f3c",
   "metadata": {},
   "outputs": [],
   "source": [
    "# Decision tree\n",
    "from sklearn.tree import DecisionTreeClassifier\n",
    "\n",
    "dtc = DecisionTreeClassifier()\n",
    "tree = dtc.fit(x_resampled, y_resampled)\n",
    "tree_predict = tree.predict(x_test)"
   ]
  },
  {
   "cell_type": "code",
   "execution_count": 33,
   "id": "c07e3d60",
   "metadata": {},
   "outputs": [
    {
     "data": {
      "image/png": "[encoded data removed]",
      "text/plain": [
       "<Figure size 432x288 with 1 Axes>"
      ]
     },
     "metadata": {},
     "output_type": "display_data"
    }
   ],
   "source": [
    "#SVM\n",
    "\n",
    "sns.scatterplot(x=dfPCA[:,0], y=dfPCA[:,1], hue=retardsReduct )\n",
    "plt.xlabel('1r component')\n",
    "plt.ylabel('2n component')\n",
    "plt.title('PCA 1r i 2n component')\n",
    "plt.show()"
   ]
  },
  {
   "cell_type": "markdown",
   "id": "99f3372f",
   "metadata": {},
   "source": [
    "La gràfica mostra que hi han dos grups diferenciats però no sembla que amb els dos primers components sigui degut els grups pels retards. Igualment s'intentarà separar-los per SVG amb kernel lineal"
   ]
  },
  {
   "cell_type": "code",
   "execution_count": 34,
   "id": "634c5382",
   "metadata": {},
   "outputs": [],
   "source": [
    "from sklearn import svm\n",
    "\n",
    "clf = svm.SVC(kernel='linear')\n",
    "clf.fit(x_resampled, y_resampled)\n",
    "svm_predict = clf.predict(x_test)"
   ]
  },
  {
   "cell_type": "code",
   "execution_count": 35,
   "id": "90cc377b",
   "metadata": {},
   "outputs": [
    {
     "name": "stderr",
     "output_type": "stream",
     "text": [
      "C:\\Users\\Guillermo\\anaconda3\\lib\\site-packages\\sklearn\\linear_model\\_logistic.py:814: ConvergenceWarning: lbfgs failed to converge (status=1):\n",
      "STOP: TOTAL NO. of ITERATIONS REACHED LIMIT.\n",
      "\n",
      "Increase the number of iterations (max_iter) or scale the data as shown in:\n",
      "    https://scikit-learn.org/stable/modules/preprocessing.html\n",
      "Please also refer to the documentation for alternative solver options:\n",
      "    https://scikit-learn.org/stable/modules/linear_model.html#logistic-regression\n",
      "  n_iter_i = _check_optimize_result(\n"
     ]
    }
   ],
   "source": [
    "#Logistic regression\n",
    "from sklearn.linear_model import LogisticRegression\n",
    "\n",
    "logreg = LogisticRegression()\n",
    "\n",
    "logreg.fit(x_resampled, y_resampled)\n",
    "\n",
    "logreg_predict = logreg.predict(x_test)"
   ]
  },
  {
   "cell_type": "code",
   "execution_count": 39,
   "id": "a5a8b307",
   "metadata": {},
   "outputs": [
    {
     "name": "stdout",
     "output_type": "stream",
     "text": [
      "(2500,)\n",
      "(2500, 2664)\n"
     ]
    }
   ],
   "source": [
    "print(logreg_predict.shape)\n",
    "print(x_test.shape)"
   ]
  },
  {
   "cell_type": "markdown",
   "id": "84a770d4",
   "metadata": {},
   "source": [
    "Ignorarem l'alerta degut a que a les dades ja hem aplicat un robust scaler i han sigut normalitzades. Tot i així, al no poder fer prou iteracions pot donar un resultat dolent"
   ]
  },
  {
   "cell_type": "markdown",
   "id": "586d4e14",
   "metadata": {},
   "source": [
    "## Exercici 2\n",
    "\n",
    "Compara els models de classificació utilitzant la precisió (accuracy), una matriu de confiança i d’altres mètriques més avançades."
   ]
  },
  {
   "cell_type": "code",
   "execution_count": 44,
   "id": "2ccd085a",
   "metadata": {},
   "outputs": [
    {
     "name": "stdout",
     "output_type": "stream",
     "text": [
      "decision tree 0.842\n",
      "SVM 0.8396\n",
      "Logistic regression 0.824\n"
     ]
    }
   ],
   "source": [
    "from sklearn import metrics\n",
    "#Accuracy\n",
    "print('decision tree', metrics.accuracy_score(y_test, tree_predict))\n",
    "print('SVM', metrics.accuracy_score(y_test, svm_predict))\n",
    "print('Logistic regression', metrics.accuracy_score(y_test, logreg_predict))"
   ]
  },
  {
   "cell_type": "markdown",
   "id": "dbbeffe1",
   "metadata": {},
   "source": [
    "### Matriu de confiança"
   ]
  },
  {
   "cell_type": "code",
   "execution_count": 47,
   "id": "77004cc0",
   "metadata": {},
   "outputs": [
    {
     "data": {
      "text/plain": [
       "array([[ 145,  121],\n",
       "       [ 274, 1960]], dtype=int64)"
      ]
     },
     "execution_count": 47,
     "metadata": {},
     "output_type": "execute_result"
    }
   ],
   "source": [
    "#Decisiont tree\n",
    "tree_matrix = metrics.confusion_matrix(y_test, tree_predict)\n",
    "tree_matrix"
   ]
  },
  {
   "cell_type": "code",
   "execution_count": 50,
   "id": "7c43f2ab",
   "metadata": {},
   "outputs": [
    {
     "data": {
      "image/png": "[encoded data removed]",
      "text/plain": [
       "<Figure size 432x288 with 2 Axes>"
      ]
     },
     "metadata": {},
     "output_type": "display_data"
    }
   ],
   "source": [
    "class_names=[0,1] # name  of classes\n",
    "fig, ax = plt.subplots()\n",
    "tick_marks = np.arange(len(class_names))\n",
    "plt.xticks(tick_marks, class_names)\n",
    "plt.yticks(tick_marks, class_names)\n",
    "# create heatmap\n",
    "sns.heatmap(pd.DataFrame(tree_matrix), annot=True, cmap=\"YlGnBu\" ,fmt='g')\n",
    "ax.xaxis.set_label_position(\"top\")\n",
    "plt.tight_layout()\n",
    "plt.title('Confusion matrix del decission tree', y=1.1)\n",
    "plt.ylabel('Actual label')\n",
    "plt.xlabel('Predicted label')\n",
    "plt.show()"
   ]
  },
  {
   "cell_type": "code",
   "execution_count": 53,
   "id": "d4e88220",
   "metadata": {},
   "outputs": [
    {
     "data": {
      "text/plain": [
       "array([[ 147,  119],\n",
       "       [ 282, 1952]], dtype=int64)"
      ]
     },
     "execution_count": 53,
     "metadata": {},
     "output_type": "execute_result"
    }
   ],
   "source": [
    "# SVM\n",
    "svm_matrix = metrics.confusion_matrix(y_test, svm_predict)\n",
    "svm_matrix"
   ]
  },
  {
   "cell_type": "code",
   "execution_count": 54,
   "id": "171ffe78",
   "metadata": {},
   "outputs": [
    {
     "data": {
      "image/png": "[encoded data removed]",
      "text/plain": [
       "<Figure size 432x288 with 2 Axes>"
      ]
     },
     "metadata": {},
     "output_type": "display_data"
    }
   ],
   "source": [
    "class_names=[0,1] # name  of classes\n",
    "fig, ax = plt.subplots()\n",
    "tick_marks = np.arange(len(class_names))\n",
    "plt.xticks(tick_marks, class_names)\n",
    "plt.yticks(tick_marks, class_names)\n",
    "# create heatmap\n",
    "sns.heatmap(pd.DataFrame(svm_matrix), annot=True, cmap=\"YlGnBu\" ,fmt='g')\n",
    "ax.xaxis.set_label_position(\"top\")\n",
    "plt.tight_layout()\n",
    "plt.title('Confusion matrix del svm', y=1.1)\n",
    "plt.ylabel('Actual label')\n",
    "plt.xlabel('Predicted label')\n",
    "plt.show()"
   ]
  },
  {
   "cell_type": "code",
   "execution_count": 57,
   "id": "c00c71b3",
   "metadata": {},
   "outputs": [
    {
     "data": {
      "text/plain": [
       "array([[ 149,  117],\n",
       "       [ 323, 1911]], dtype=int64)"
      ]
     },
     "execution_count": 57,
     "metadata": {},
     "output_type": "execute_result"
    }
   ],
   "source": [
    "#Logistic regression\n",
    "lgr_matrix = metrics.confusion_matrix(y_test,logreg_predict)\n",
    "lgr_matrix"
   ]
  },
  {
   "cell_type": "code",
   "execution_count": 58,
   "id": "897f8143",
   "metadata": {
    "scrolled": true
   },
   "outputs": [
    {
     "data": {
      "image/png": "[encoded data removed]",
      "text/plain": [
       "<Figure size 432x288 with 2 Axes>"
      ]
     },
     "metadata": {},
     "output_type": "display_data"
    }
   ],
   "source": [
    "class_names=[0,1] # name  of classes\n",
    "fig, ax = plt.subplots()\n",
    "tick_marks = np.arange(len(class_names))\n",
    "plt.xticks(tick_marks, class_names)\n",
    "plt.yticks(tick_marks, class_names)\n",
    "# create heatmap\n",
    "sns.heatmap(pd.DataFrame(lgr_matrix), annot=True, cmap=\"YlGnBu\" ,fmt='g')\n",
    "ax.xaxis.set_label_position(\"top\")\n",
    "plt.tight_layout()\n",
    "plt.title('Confusion matrix del logistic regression', y=1.1)\n",
    "plt.ylabel('Actual label')\n",
    "plt.xlabel('Predicted label')\n",
    "plt.show()"
   ]
  },
  {
   "cell_type": "code",
   "execution_count": 63,
   "id": "05dffd04",
   "metadata": {},
   "outputs": [
    {
     "data": {
      "text/html": [
       "<div>\n",
       "<style scoped>\n",
       "    .dataframe tbody tr th:only-of-type {\n",
       "        vertical-align: middle;\n",
       "    }\n",
       "\n",
       "    .dataframe tbody tr th {\n",
       "        vertical-align: top;\n",
       "    }\n",
       "\n",
       "    .dataframe thead th {\n",
       "        text-align: right;\n",
       "    }\n",
       "</style>\n",
       "<table border=\"1\" class=\"dataframe\">\n",
       "  <thead>\n",
       "    <tr style=\"text-align: right;\">\n",
       "      <th></th>\n",
       "      <th>models</th>\n",
       "      <th>TP</th>\n",
       "      <th>FP</th>\n",
       "      <th>TN</th>\n",
       "      <th>FN</th>\n",
       "    </tr>\n",
       "  </thead>\n",
       "  <tbody>\n",
       "    <tr>\n",
       "      <th>0</th>\n",
       "      <td>tree</td>\n",
       "      <td>1960</td>\n",
       "      <td>121</td>\n",
       "      <td>145</td>\n",
       "      <td>274</td>\n",
       "    </tr>\n",
       "    <tr>\n",
       "      <th>1</th>\n",
       "      <td>SVM</td>\n",
       "      <td>1952</td>\n",
       "      <td>119</td>\n",
       "      <td>147</td>\n",
       "      <td>282</td>\n",
       "    </tr>\n",
       "    <tr>\n",
       "      <th>2</th>\n",
       "      <td>logreg</td>\n",
       "      <td>1911</td>\n",
       "      <td>117</td>\n",
       "      <td>149</td>\n",
       "      <td>323</td>\n",
       "    </tr>\n",
       "  </tbody>\n",
       "</table>\n",
       "</div>"
      ],
      "text/plain": [
       "   models    TP   FP   TN   FN\n",
       "0    tree  1960  121  145  274\n",
       "1     SVM  1952  119  147  282\n",
       "2  logreg  1911  117  149  323"
      ]
     },
     "execution_count": 63,
     "metadata": {},
     "output_type": "execute_result"
    }
   ],
   "source": [
    "data = {'models':['tree', 'SVM','logreg'],\n",
    "        'TP': [tree_matrix[1,1], svm_matrix[1,1], lgr_matrix[1,1]],\n",
    "        'FP': [tree_matrix[0,1], svm_matrix[0,1], lgr_matrix[0,1]],\n",
    "        'TN':[tree_matrix[0,0], svm_matrix[0,0], lgr_matrix[0,0]],\n",
    "        'FN': [tree_matrix[1,0], svm_matrix[1,0], lgr_matrix[1,0]]\n",
    "       }\n",
    "resum = pd.DataFrame(data = data)\n",
    "resum"
   ]
  },
  {
   "cell_type": "code",
   "execution_count": 84,
   "id": "582fe8f7",
   "metadata": {},
   "outputs": [],
   "source": [
    "def clasif_statistic(df):\n",
    "    for index, row in resum.iterrows():\n",
    "        print()\n",
    "        precision = row[1]/(row[1]+row[2])\n",
    "        sensitivity = row[1]/(row[1]+row[4])\n",
    "        specificity = row[3]/(row[3]+row[2])\n",
    "        print(row[0], 'Precission = ', round(precision,3))\n",
    "        print(row[0], 'Sensitivity = ', round(sensitivity,3))\n",
    "        print(row[0], 'Specificity = ', round(specificity,3))\n",
    "   \n",
    "    \n",
    "  "
   ]
  },
  {
   "cell_type": "code",
   "execution_count": 85,
   "id": "7391b987",
   "metadata": {},
   "outputs": [
    {
     "name": "stdout",
     "output_type": "stream",
     "text": [
      "\n",
      "tree Precission =  0.942\n",
      "tree Sensitivity =  0.877\n",
      "tree Specificity =  0.545\n",
      "\n",
      "SVM Precission =  0.943\n",
      "SVM Sensitivity =  0.874\n",
      "SVM Specificity =  0.553\n",
      "\n",
      "logreg Precission =  0.942\n",
      "logreg Sensitivity =  0.855\n",
      "logreg Specificity =  0.56\n"
     ]
    }
   ],
   "source": [
    "clasif_statistic(resum)"
   ]
  },
  {
   "cell_type": "markdown",
   "id": "9c347611",
   "metadata": {},
   "source": [
    "Veiem que en general la precisió i l'assignació de positius és millor que la de negatius. Sent els millors models decision tree i SVM."
   ]
  },
  {
   "cell_type": "markdown",
   "id": "06140f06",
   "metadata": {},
   "source": [
    "## Exercici 3\n",
    "\n",
    "Entrena’ls utilitzant els diferents paràmetres que admeten.\n"
   ]
  },
  {
   "cell_type": "code",
   "execution_count": 90,
   "id": "5b9786b8",
   "metadata": {},
   "outputs": [],
   "source": [
    "# Decision tree\n",
    "from sklearn.tree import DecisionTreeClassifier\n",
    "\n",
    "dtc2 = DecisionTreeClassifier(criterion = 'entropy')\n",
    "tree2 = dtc2.fit(x_resampled, y_resampled)\n",
    "tree_predict2 = tree2.predict(x_test)\n",
    "\n",
    "metrics.accuracy_score(y_test, tree_predict2)\n",
    "matrix = metrics.confusion_matrix(y_test,tree_predict2)\n",
    "\n"
   ]
  },
  {
   "cell_type": "code",
   "execution_count": 94,
   "id": "6868a3bf",
   "metadata": {},
   "outputs": [
    {
     "name": "stdout",
     "output_type": "stream",
     "text": [
      "TP:  1959\n",
      "TN:  163\n",
      "FP:  103\n",
      "FN:  275\n",
      "Precission =  0.95\n",
      "Sensitivity =  0.877\n",
      "Specificity =  0.613\n",
      "accuracy:  0.8488\n"
     ]
    }
   ],
   "source": [
    "def clasif_statistic2(m):    \n",
    "        precision = m[1,1]/(m[1,1]+m[0,1])\n",
    "        sensitivity = m[1,1]/(m[1,1]+m[1,0])\n",
    "        specificity = m[0,0]/(m[0,0]+m[0,1])\n",
    "        print('TP: ', m[1,1])\n",
    "        print('TN: ', m[0,0])\n",
    "        print('FP: ', m[0,1])\n",
    "        print('FN: ', m[1,0])\n",
    "        print('Precission = ', round(precision,3))\n",
    "        print('Sensitivity = ', round(sensitivity,3))\n",
    "        print('Specificity = ', round(specificity,3))\n",
    " \n",
    "clasif_statistic2(matrix)\n",
    "print('accuracy: ', metrics.accuracy_score(y_test, tree_predict2))"
   ]
  },
  {
   "cell_type": "code",
   "execution_count": 95,
   "id": "e793746a",
   "metadata": {},
   "outputs": [
    {
     "name": "stdout",
     "output_type": "stream",
     "text": [
      "TP:  2109\n",
      "TN:  65\n",
      "FP:  201\n",
      "FN:  125\n",
      "Precission =  0.913\n",
      "Sensitivity =  0.944\n",
      "Specificity =  0.244\n",
      "accuracy:  0.8696\n"
     ]
    }
   ],
   "source": [
    "clf2 = svm.SVC(kernel='rbf', gamma = 0.1)\n",
    "clf2.fit(x_resampled, y_resampled)\n",
    "svm_predict2 = clf2.predict(x_test)\n",
    "\n",
    "metrics.accuracy_score(y_test, svm_predict2)\n",
    "matrixSVM = metrics.confusion_matrix(y_test,svm_predict2)\n",
    "\n",
    "clasif_statistic2(matrixSVM)\n",
    "print('accuracy: ', metrics.accuracy_score(y_test, svm_predict2))"
   ]
  },
  {
   "cell_type": "code",
   "execution_count": 100,
   "id": "8b1aca1f",
   "metadata": {},
   "outputs": [
    {
     "name": "stdout",
     "output_type": "stream",
     "text": [
      "TP:  1911\n",
      "TN:  149\n",
      "FP:  117\n",
      "FN:  323\n",
      "Precission =  0.942\n",
      "Sensitivity =  0.855\n",
      "Specificity =  0.56\n",
      "accuracy:  0.8696\n"
     ]
    }
   ],
   "source": [
    "#Logistic regression\n",
    "from sklearn.linear_model import LogisticRegression\n",
    "\n",
    "logreg2 = LogisticRegression(solver = 'saga')\n",
    "\n",
    "logreg2.fit(x_resampled, y_resampled)\n",
    "\n",
    "logreg_predict2 = logreg2.predict(x_test)\n",
    "\n",
    "matrix_lgrg = metrics.confusion_matrix(y_test, logreg_predict2)\n",
    "clasif_statistic2(matrix_lgrg)\n",
    "print('accuracy: ', metrics.accuracy_score(y_test, svm_predict2))"
   ]
  },
  {
   "cell_type": "markdown",
   "id": "647a947b",
   "metadata": {},
   "source": [
    "## Exercici 4\n",
    "\n",
    "Compara el seu rendiment utilitzant l’aproximació traint/test o cross-validation.\n",
    "\n",
    "S'utilitzarà cross-validation en els models emprats en l'exercici 1"
   ]
  },
  {
   "cell_type": "code",
   "execution_count": 102,
   "id": "1a267a91",
   "metadata": {},
   "outputs": [
    {
     "name": "stdout",
     "output_type": "stream",
     "text": [
      "[0.86733333 0.86533333 0.86666667 0.87266667 0.86133333]\n",
      "mitja 0.8666666666666666\n",
      "sd 0.003651483716701135\n"
     ]
    }
   ],
   "source": [
    "from sklearn.model_selection import cross_val_score\n",
    "\n",
    "#Decision tree\n",
    "\n",
    "scores_tree = cross_val_score(dtc, x_train, y_train, cv=5)\n",
    "print(scores_tree)\n",
    "print('mitja', scores_tree.mean())\n",
    "print('sd', scores_tree.std())"
   ]
  },
  {
   "cell_type": "code",
   "execution_count": 103,
   "id": "145ffcc6",
   "metadata": {},
   "outputs": [
    {
     "name": "stdout",
     "output_type": "stream",
     "text": [
      "[0.88666667 0.89133333 0.88866667 0.88133333 0.882     ]\n",
      "mitja  0.8859999999999999\n",
      "std  0.003841296077570124\n"
     ]
    }
   ],
   "source": [
    "#SVC\n",
    "\n",
    "scores_SVC = cross_val_score(clf, x_train, y_train, cv=5)\n",
    "print(scores_SVC)\n",
    "print('mitja ', scores_SVC.mean())\n",
    "print('std ', scores_SVC.std())\n"
   ]
  },
  {
   "cell_type": "code",
   "execution_count": 104,
   "id": "abd822b8",
   "metadata": {},
   "outputs": [
    {
     "name": "stdout",
     "output_type": "stream",
     "text": [
      "[0.89333333 0.89333333 0.894      0.89066667 0.89133333]\n",
      "mean:  0.8925333333333334\n",
      "std:  0.0012927146286443427\n"
     ]
    }
   ],
   "source": [
    "#Logistic regression, utilitzem el cas de l'exercici 2 perquè no ha donat\n",
    "#cap alerta\n",
    "\n",
    "scores_logreg2 = cross_val_score(logreg2, x_train, y_train, cv=5)\n",
    "print(scores_logreg2)\n",
    "print('mean: ', scores_logreg2.mean())\n",
    "print('std: ', scores_logreg2.std())\n",
    "\n"
   ]
  },
  {
   "cell_type": "markdown",
   "id": "4d9f44fd",
   "metadata": {},
   "source": [
    "En tots els casos s'obtenen valors per sobre del 80% d'accuracy amb una dispersió molt petita."
   ]
  },
  {
   "cell_type": "code",
   "execution_count": null,
   "id": "d98538dd",
   "metadata": {},
   "outputs": [],
   "source": []
  }
 ],
 "metadata": {
  "kernelspec": {
   "display_name": "Python 3 (ipykernel)",
   "language": "python",
   "name": "python3"
  },
  "language_info": {
   "codemirror_mode": {
    "name": "ipython",
    "version": 3
   },
   "file_extension": ".py",
   "mimetype": "text/x-python",
   "name": "python",
   "nbconvert_exporter": "python",
   "pygments_lexer": "ipython3",
   "version": "3.9.7"
  }
 },
 "nbformat": 4,
 "nbformat_minor": 5
}
